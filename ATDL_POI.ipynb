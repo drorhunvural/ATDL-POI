{
  "cells": [
    {
      "cell_type": "code",
      "execution_count": 1,
      "metadata": {
        "colab": {
          "base_uri": "https://localhost:8080/"
        },
        "id": "r8CcxST2veEZ",
        "outputId": "613319b0-d3b5-4dd4-adde-0d1771504fb0"
      },
      "outputs": [
        {
          "output_type": "stream",
          "name": "stdout",
          "text": [
            "Tue Feb 15 21:55:32 2022       \n",
            "+-----------------------------------------------------------------------------+\n",
            "| NVIDIA-SMI 460.32.03    Driver Version: 460.32.03    CUDA Version: 11.2     |\n",
            "|-------------------------------+----------------------+----------------------+\n",
            "| GPU  Name        Persistence-M| Bus-Id        Disp.A | Volatile Uncorr. ECC |\n",
            "| Fan  Temp  Perf  Pwr:Usage/Cap|         Memory-Usage | GPU-Util  Compute M. |\n",
            "|                               |                      |               MIG M. |\n",
            "|===============================+======================+======================|\n",
            "|   0  Tesla K80           Off  | 00000000:00:04.0 Off |                    0 |\n",
            "| N/A   67C    P8    32W / 149W |      0MiB / 11441MiB |      0%      Default |\n",
            "|                               |                      |                  N/A |\n",
            "+-------------------------------+----------------------+----------------------+\n",
            "                                                                               \n",
            "+-----------------------------------------------------------------------------+\n",
            "| Processes:                                                                  |\n",
            "|  GPU   GI   CI        PID   Type   Process name                  GPU Memory |\n",
            "|        ID   ID                                                   Usage      |\n",
            "|=============================================================================|\n",
            "|  No running processes found                                                 |\n",
            "+-----------------------------------------------------------------------------+\n"
          ]
        }
      ],
      "source": [
        "!nvidia-smi"
      ]
    },
    {
      "cell_type": "code",
      "execution_count": 2,
      "metadata": {
        "colab": {
          "base_uri": "https://localhost:8080/"
        },
        "id": "4BhN6koq6mDE",
        "outputId": "553612a9-bf45-442e-d9ae-94f2bd2b5574"
      },
      "outputs": [
        {
          "output_type": "stream",
          "name": "stdout",
          "text": [
            "Collecting geopy==2.1.0\n",
            "  Downloading geopy-2.1.0-py3-none-any.whl (112 kB)\n",
            "\u001b[?25l\r\u001b[K     |███                             | 10 kB 15.2 MB/s eta 0:00:01\r\u001b[K     |█████▉                          | 20 kB 5.0 MB/s eta 0:00:01\r\u001b[K     |████████▊                       | 30 kB 3.7 MB/s eta 0:00:01\r\u001b[K     |███████████▊                    | 40 kB 3.4 MB/s eta 0:00:01\r\u001b[K     |██████████████▋                 | 51 kB 3.4 MB/s eta 0:00:01\r\u001b[K     |█████████████████▌              | 61 kB 3.7 MB/s eta 0:00:01\r\u001b[K     |████████████████████▍           | 71 kB 3.5 MB/s eta 0:00:01\r\u001b[K     |███████████████████████▍        | 81 kB 4.0 MB/s eta 0:00:01\r\u001b[K     |██████████████████████████▎     | 92 kB 4.0 MB/s eta 0:00:01\r\u001b[K     |█████████████████████████████▏  | 102 kB 3.9 MB/s eta 0:00:01\r\u001b[K     |████████████████████████████████| 112 kB 3.9 MB/s \n",
            "\u001b[?25hRequirement already satisfied: geographiclib<2,>=1.49 in /usr/local/lib/python3.7/dist-packages (from geopy==2.1.0) (1.52)\n",
            "Installing collected packages: geopy\n",
            "  Attempting uninstall: geopy\n",
            "    Found existing installation: geopy 1.17.0\n",
            "    Uninstalling geopy-1.17.0:\n",
            "      Successfully uninstalled geopy-1.17.0\n",
            "Successfully installed geopy-2.1.0\n"
          ]
        }
      ],
      "source": [
        "!pip install geopy==2.1.0"
      ]
    },
    {
      "cell_type": "code",
      "execution_count": 3,
      "metadata": {
        "colab": {
          "base_uri": "https://localhost:8080/"
        },
        "id": "zn2ICwhJ5BYw",
        "outputId": "3bd9d4b4-052f-43b7-847a-0396f771510c"
      },
      "outputs": [
        {
          "output_type": "stream",
          "name": "stdout",
          "text": [
            "Collecting torchmetrics==0.2.0\n",
            "  Downloading torchmetrics-0.2.0-py3-none-any.whl (176 kB)\n",
            "\u001b[?25l\r\u001b[K     |█▉                              | 10 kB 22.9 MB/s eta 0:00:01\r\u001b[K     |███▊                            | 20 kB 9.0 MB/s eta 0:00:01\r\u001b[K     |█████▋                          | 30 kB 7.5 MB/s eta 0:00:01\r\u001b[K     |███████▍                        | 40 kB 7.1 MB/s eta 0:00:01\r\u001b[K     |█████████▎                      | 51 kB 4.3 MB/s eta 0:00:01\r\u001b[K     |███████████▏                    | 61 kB 4.5 MB/s eta 0:00:01\r\u001b[K     |█████████████                   | 71 kB 4.4 MB/s eta 0:00:01\r\u001b[K     |██████████████▉                 | 81 kB 5.0 MB/s eta 0:00:01\r\u001b[K     |████████████████▊               | 92 kB 5.1 MB/s eta 0:00:01\r\u001b[K     |██████████████████▌             | 102 kB 4.2 MB/s eta 0:00:01\r\u001b[K     |████████████████████▍           | 112 kB 4.2 MB/s eta 0:00:01\r\u001b[K     |██████████████████████▎         | 122 kB 4.2 MB/s eta 0:00:01\r\u001b[K     |████████████████████████        | 133 kB 4.2 MB/s eta 0:00:01\r\u001b[K     |██████████████████████████      | 143 kB 4.2 MB/s eta 0:00:01\r\u001b[K     |███████████████████████████▉    | 153 kB 4.2 MB/s eta 0:00:01\r\u001b[K     |█████████████████████████████▋  | 163 kB 4.2 MB/s eta 0:00:01\r\u001b[K     |███████████████████████████████▌| 174 kB 4.2 MB/s eta 0:00:01\r\u001b[K     |████████████████████████████████| 176 kB 4.2 MB/s \n",
            "\u001b[?25hRequirement already satisfied: torch>=1.3.1 in /usr/local/lib/python3.7/dist-packages (from torchmetrics==0.2.0) (1.10.0+cu111)\n",
            "Requirement already satisfied: typing-extensions in /usr/local/lib/python3.7/dist-packages (from torch>=1.3.1->torchmetrics==0.2.0) (3.10.0.2)\n",
            "Installing collected packages: torchmetrics\n",
            "Successfully installed torchmetrics-0.2.0\n"
          ]
        }
      ],
      "source": [
        "!pip install torchmetrics==0.2.0"
      ]
    },
    {
      "cell_type": "code",
      "execution_count": 4,
      "metadata": {
        "colab": {
          "base_uri": "https://localhost:8080/"
        },
        "id": "-nNkWXw15Mw1",
        "outputId": "9ae4498b-4da8-4c5b-f457-746bf0fab757"
      },
      "outputs": [
        {
          "output_type": "stream",
          "name": "stdout",
          "text": [
            "Collecting pytorch-lightning==1.2.4\n",
            "  Downloading pytorch_lightning-1.2.4-py3-none-any.whl (829 kB)\n",
            "\u001b[K     |████████████████████████████████| 829 kB 4.4 MB/s \n",
            "\u001b[?25hRequirement already satisfied: numpy>=1.16.6 in /usr/local/lib/python3.7/dist-packages (from pytorch-lightning==1.2.4) (1.21.5)\n",
            "Requirement already satisfied: tqdm>=4.41.0 in /usr/local/lib/python3.7/dist-packages (from pytorch-lightning==1.2.4) (4.62.3)\n",
            "Requirement already satisfied: torch>=1.4 in /usr/local/lib/python3.7/dist-packages (from pytorch-lightning==1.2.4) (1.10.0+cu111)\n",
            "Collecting future>=0.17.1\n",
            "  Downloading future-0.18.2.tar.gz (829 kB)\n",
            "\u001b[K     |████████████████████████████████| 829 kB 19.3 MB/s \n",
            "\u001b[?25hCollecting fsspec[http]>=0.8.1\n",
            "  Downloading fsspec-2022.1.0-py3-none-any.whl (133 kB)\n",
            "\u001b[K     |████████████████████████████████| 133 kB 38.8 MB/s \n",
            "\u001b[?25hCollecting PyYAML!=5.4.*,>=5.1\n",
            "  Downloading PyYAML-6.0-cp37-cp37m-manylinux_2_5_x86_64.manylinux1_x86_64.manylinux_2_12_x86_64.manylinux2010_x86_64.whl (596 kB)\n",
            "\u001b[K     |████████████████████████████████| 596 kB 42.2 MB/s \n",
            "\u001b[?25hRequirement already satisfied: tensorboard>=2.2.0 in /usr/local/lib/python3.7/dist-packages (from pytorch-lightning==1.2.4) (2.8.0)\n",
            "Requirement already satisfied: requests in /usr/local/lib/python3.7/dist-packages (from fsspec[http]>=0.8.1->pytorch-lightning==1.2.4) (2.23.0)\n",
            "Collecting aiohttp\n",
            "  Downloading aiohttp-3.8.1-cp37-cp37m-manylinux_2_5_x86_64.manylinux1_x86_64.manylinux_2_12_x86_64.manylinux2010_x86_64.whl (1.1 MB)\n",
            "\u001b[K     |████████████████████████████████| 1.1 MB 15.0 MB/s \n",
            "\u001b[?25hRequirement already satisfied: absl-py>=0.4 in /usr/local/lib/python3.7/dist-packages (from tensorboard>=2.2.0->pytorch-lightning==1.2.4) (1.0.0)\n",
            "Requirement already satisfied: google-auth<3,>=1.6.3 in /usr/local/lib/python3.7/dist-packages (from tensorboard>=2.2.0->pytorch-lightning==1.2.4) (1.35.0)\n",
            "Requirement already satisfied: tensorboard-plugin-wit>=1.6.0 in /usr/local/lib/python3.7/dist-packages (from tensorboard>=2.2.0->pytorch-lightning==1.2.4) (1.8.1)\n",
            "Requirement already satisfied: google-auth-oauthlib<0.5,>=0.4.1 in /usr/local/lib/python3.7/dist-packages (from tensorboard>=2.2.0->pytorch-lightning==1.2.4) (0.4.6)\n",
            "Requirement already satisfied: grpcio>=1.24.3 in /usr/local/lib/python3.7/dist-packages (from tensorboard>=2.2.0->pytorch-lightning==1.2.4) (1.43.0)\n",
            "Requirement already satisfied: setuptools>=41.0.0 in /usr/local/lib/python3.7/dist-packages (from tensorboard>=2.2.0->pytorch-lightning==1.2.4) (57.4.0)\n",
            "Requirement already satisfied: wheel>=0.26 in /usr/local/lib/python3.7/dist-packages (from tensorboard>=2.2.0->pytorch-lightning==1.2.4) (0.37.1)\n",
            "Requirement already satisfied: tensorboard-data-server<0.7.0,>=0.6.0 in /usr/local/lib/python3.7/dist-packages (from tensorboard>=2.2.0->pytorch-lightning==1.2.4) (0.6.1)\n",
            "Requirement already satisfied: markdown>=2.6.8 in /usr/local/lib/python3.7/dist-packages (from tensorboard>=2.2.0->pytorch-lightning==1.2.4) (3.3.6)\n",
            "Requirement already satisfied: protobuf>=3.6.0 in /usr/local/lib/python3.7/dist-packages (from tensorboard>=2.2.0->pytorch-lightning==1.2.4) (3.17.3)\n",
            "Requirement already satisfied: werkzeug>=0.11.15 in /usr/local/lib/python3.7/dist-packages (from tensorboard>=2.2.0->pytorch-lightning==1.2.4) (1.0.1)\n",
            "Requirement already satisfied: six in /usr/local/lib/python3.7/dist-packages (from absl-py>=0.4->tensorboard>=2.2.0->pytorch-lightning==1.2.4) (1.15.0)\n",
            "Requirement already satisfied: rsa<5,>=3.1.4 in /usr/local/lib/python3.7/dist-packages (from google-auth<3,>=1.6.3->tensorboard>=2.2.0->pytorch-lightning==1.2.4) (4.8)\n",
            "Requirement already satisfied: cachetools<5.0,>=2.0.0 in /usr/local/lib/python3.7/dist-packages (from google-auth<3,>=1.6.3->tensorboard>=2.2.0->pytorch-lightning==1.2.4) (4.2.4)\n",
            "Requirement already satisfied: pyasn1-modules>=0.2.1 in /usr/local/lib/python3.7/dist-packages (from google-auth<3,>=1.6.3->tensorboard>=2.2.0->pytorch-lightning==1.2.4) (0.2.8)\n",
            "Requirement already satisfied: requests-oauthlib>=0.7.0 in /usr/local/lib/python3.7/dist-packages (from google-auth-oauthlib<0.5,>=0.4.1->tensorboard>=2.2.0->pytorch-lightning==1.2.4) (1.3.1)\n",
            "Requirement already satisfied: importlib-metadata>=4.4 in /usr/local/lib/python3.7/dist-packages (from markdown>=2.6.8->tensorboard>=2.2.0->pytorch-lightning==1.2.4) (4.11.0)\n",
            "Requirement already satisfied: typing-extensions>=3.6.4 in /usr/local/lib/python3.7/dist-packages (from importlib-metadata>=4.4->markdown>=2.6.8->tensorboard>=2.2.0->pytorch-lightning==1.2.4) (3.10.0.2)\n",
            "Requirement already satisfied: zipp>=0.5 in /usr/local/lib/python3.7/dist-packages (from importlib-metadata>=4.4->markdown>=2.6.8->tensorboard>=2.2.0->pytorch-lightning==1.2.4) (3.7.0)\n",
            "Requirement already satisfied: pyasn1<0.5.0,>=0.4.6 in /usr/local/lib/python3.7/dist-packages (from pyasn1-modules>=0.2.1->google-auth<3,>=1.6.3->tensorboard>=2.2.0->pytorch-lightning==1.2.4) (0.4.8)\n",
            "Requirement already satisfied: chardet<4,>=3.0.2 in /usr/local/lib/python3.7/dist-packages (from requests->fsspec[http]>=0.8.1->pytorch-lightning==1.2.4) (3.0.4)\n",
            "Requirement already satisfied: idna<3,>=2.5 in /usr/local/lib/python3.7/dist-packages (from requests->fsspec[http]>=0.8.1->pytorch-lightning==1.2.4) (2.10)\n",
            "Requirement already satisfied: urllib3!=1.25.0,!=1.25.1,<1.26,>=1.21.1 in /usr/local/lib/python3.7/dist-packages (from requests->fsspec[http]>=0.8.1->pytorch-lightning==1.2.4) (1.24.3)\n",
            "Requirement already satisfied: certifi>=2017.4.17 in /usr/local/lib/python3.7/dist-packages (from requests->fsspec[http]>=0.8.1->pytorch-lightning==1.2.4) (2021.10.8)\n",
            "Requirement already satisfied: oauthlib>=3.0.0 in /usr/local/lib/python3.7/dist-packages (from requests-oauthlib>=0.7.0->google-auth-oauthlib<0.5,>=0.4.1->tensorboard>=2.2.0->pytorch-lightning==1.2.4) (3.2.0)\n",
            "Collecting asynctest==0.13.0\n",
            "  Downloading asynctest-0.13.0-py3-none-any.whl (26 kB)\n",
            "Requirement already satisfied: attrs>=17.3.0 in /usr/local/lib/python3.7/dist-packages (from aiohttp->fsspec[http]>=0.8.1->pytorch-lightning==1.2.4) (21.4.0)\n",
            "Requirement already satisfied: charset-normalizer<3.0,>=2.0 in /usr/local/lib/python3.7/dist-packages (from aiohttp->fsspec[http]>=0.8.1->pytorch-lightning==1.2.4) (2.0.11)\n",
            "Collecting aiosignal>=1.1.2\n",
            "  Downloading aiosignal-1.2.0-py3-none-any.whl (8.2 kB)\n",
            "Collecting multidict<7.0,>=4.5\n",
            "  Downloading multidict-6.0.2-cp37-cp37m-manylinux_2_17_x86_64.manylinux2014_x86_64.whl (94 kB)\n",
            "\u001b[K     |████████████████████████████████| 94 kB 2.5 MB/s \n",
            "\u001b[?25hCollecting frozenlist>=1.1.1\n",
            "  Downloading frozenlist-1.3.0-cp37-cp37m-manylinux_2_5_x86_64.manylinux1_x86_64.manylinux_2_17_x86_64.manylinux2014_x86_64.whl (144 kB)\n",
            "\u001b[K     |████████████████████████████████| 144 kB 43.4 MB/s \n",
            "\u001b[?25hCollecting async-timeout<5.0,>=4.0.0a3\n",
            "  Downloading async_timeout-4.0.2-py3-none-any.whl (5.8 kB)\n",
            "Collecting yarl<2.0,>=1.0\n",
            "  Downloading yarl-1.7.2-cp37-cp37m-manylinux_2_5_x86_64.manylinux1_x86_64.manylinux_2_12_x86_64.manylinux2010_x86_64.whl (271 kB)\n",
            "\u001b[K     |████████████████████████████████| 271 kB 38.3 MB/s \n",
            "\u001b[?25hBuilding wheels for collected packages: future\n",
            "  Building wheel for future (setup.py) ... \u001b[?25l\u001b[?25hdone\n",
            "  Created wheel for future: filename=future-0.18.2-py3-none-any.whl size=491070 sha256=b2f3ace592ba4ee7ad6ac4f6cbb3e3749ddb668c2259910c780b0ca94bb1c104\n",
            "  Stored in directory: /root/.cache/pip/wheels/56/b0/fe/4410d17b32f1f0c3cf54cdfb2bc04d7b4b8f4ae377e2229ba0\n",
            "Successfully built future\n",
            "Installing collected packages: multidict, frozenlist, yarl, asynctest, async-timeout, aiosignal, fsspec, aiohttp, PyYAML, future, pytorch-lightning\n",
            "  Attempting uninstall: PyYAML\n",
            "    Found existing installation: PyYAML 3.13\n",
            "    Uninstalling PyYAML-3.13:\n",
            "      Successfully uninstalled PyYAML-3.13\n",
            "  Attempting uninstall: future\n",
            "    Found existing installation: future 0.16.0\n",
            "    Uninstalling future-0.16.0:\n",
            "      Successfully uninstalled future-0.16.0\n",
            "Successfully installed PyYAML-6.0 aiohttp-3.8.1 aiosignal-1.2.0 async-timeout-4.0.2 asynctest-0.13.0 frozenlist-1.3.0 fsspec-2022.1.0 future-0.18.2 multidict-6.0.2 pytorch-lightning-1.2.4 yarl-1.7.2\n"
          ]
        }
      ],
      "source": [
        "!pip install pytorch-lightning==1.2.4"
      ]
    },
    {
      "cell_type": "code",
      "execution_count": 5,
      "metadata": {
        "id": "C752n6OParSA"
      },
      "outputs": [],
      "source": [
        "from pydrive.auth import GoogleAuth\n",
        "from pydrive.drive import GoogleDrive\n",
        "from google.colab import auth\n",
        "from oauth2client.client import GoogleCredentials\n",
        "\n",
        "# Authenticate and create the PyDrive client.\n",
        "auth.authenticate_user()\n",
        "gauth = GoogleAuth()\n",
        "gauth.credentials = GoogleCredentials.get_application_default()\n",
        "drive = GoogleDrive(gauth)\n",
        "\n",
        "file_id = \"\"\n",
        "downloaded = drive.CreateFile({'id':file_id})\n",
        "downloaded.FetchMetadata(fetch_all=True)\n",
        "downloaded.GetContentFile(downloaded.metadata['title'])"
      ]
    },
    {
      "cell_type": "code",
      "execution_count": 6,
      "metadata": {
        "id": "9Rx9SLQfatB-"
      },
      "outputs": [],
      "source": [
        "file_id = \"\"\n",
        "\n",
        "downloaded = drive.CreateFile({'id':file_id})\n",
        "downloaded.FetchMetadata(fetch_all=True)\n",
        "downloaded.GetContentFile(downloaded.metadata['title'])"
      ]
    },
    {
      "cell_type": "code",
      "execution_count": 7,
      "metadata": {
        "id": "wJ17TRk_s880"
      },
      "outputs": [],
      "source": [
        "file_id = \"\"\n",
        "\n",
        "downloaded = drive.CreateFile({'id':file_id})\n",
        "downloaded.FetchMetadata(fetch_all=True)\n",
        "downloaded.GetContentFile(downloaded.metadata['title'])"
      ]
    },
    {
      "cell_type": "code",
      "execution_count": 8,
      "metadata": {
        "colab": {
          "base_uri": "https://localhost:8080/"
        },
        "id": "DJBi3yqcbzF1",
        "outputId": "b908147a-8acf-478c-cb08-c64c0572f371"
      },
      "outputs": [
        {
          "output_type": "stream",
          "name": "stdout",
          "text": [
            "Archive:  rawdataset.zip\n",
            "  inflating: gowalla_checkinsdataset.csv  \n",
            "  inflating: gowalla_spots_subset1dataset.csv  \n"
          ]
        }
      ],
      "source": [
        "!unzip rdataset.zip"
      ]
    },
    {
      "cell_type": "code",
      "execution_count": 9,
      "metadata": {
        "colab": {
          "base_uri": "https://localhost:8080/"
        },
        "id": "II-4mj_ptHd9",
        "outputId": "a9df76cc-61b2-4b28-9f9e-3e186e37381d"
      },
      "outputs": [
        {
          "output_type": "stream",
          "name": "stdout",
          "text": [
            "Archive:  WeatherDataset.zip\n",
            "  inflating: weather1.csv            \n",
            "  inflating: weather2.csv            \n",
            "  inflating: weather3.csv            \n"
          ]
        }
      ],
      "source": [
        "!unzip WDataset.zip"
      ]
    },
    {
      "cell_type": "code",
      "execution_count": 10,
      "metadata": {
        "id": "PLwFk-SvdChU"
      },
      "outputs": [],
      "source": [
        "import pandas as pd\n",
        "import numpy as np\n",
        "from tqdm.auto import tqdm\n",
        "import pickle\n",
        "import re\n",
        "import geopy\n",
        "from geopy.distance import geodesic\n",
        "\n",
        "import torch\n",
        "import torch.autograd as autograd\n",
        "import torch.nn as nn\n",
        "import torch.nn.functional as F\n",
        "import torch.optim as optim\n",
        "from torch.utils.data import Dataset, DataLoader\n",
        "from collections import defaultdict\n",
        "from torchmetrics import Accuracy, Precision, Recall\n",
        "import pytorch_lightning as pl"
      ]
    },
    {
      "cell_type": "code",
      "execution_count": 11,
      "metadata": {
        "id": "3Qj4xTJ4xSLI"
      },
      "outputs": [],
      "source": [
        "import seaborn as sns\n",
        "from pylab import rcParams\n",
        "import matplotlib.pyplot as plt\n",
        "from matplotlib import rc\n",
        "from matplotlib.ticker import MaxNLocator"
      ]
    },
    {
      "cell_type": "code",
      "execution_count": 12,
      "metadata": {
        "id": "PwEjZtGlxNWI"
      },
      "outputs": [],
      "source": [
        "%matplotlib inline\n",
        "%config InlineBackend.figure_format='retina'\n",
        "\n",
        "sns.set(style='whitegrid', palette='muted', font_scale=1.2)\n",
        "\n",
        "HAPPY_COLORS_PALETTE = [\"#01BEFE\", \"#FFDD00\", \"#FF7D00\", \"#FF006D\", \"#ADFF02\", \"#8F00FF\"]\n",
        "\n",
        "sns.set_palette(sns.color_palette(HAPPY_COLORS_PALETTE))\n",
        "\n",
        "rcParams['figure.figsize'] = 12, 8"
      ]
    },
    {
      "cell_type": "code",
      "execution_count": 13,
      "metadata": {
        "colab": {
          "base_uri": "https://localhost:8080/"
        },
        "id": "7aGtdhiFplc-",
        "outputId": "a3bd86f1-bcdc-4996-869c-2532104e167b"
      },
      "outputs": [
        {
          "output_type": "stream",
          "name": "stderr",
          "text": [
            "Global seed set to 42\n"
          ]
        },
        {
          "output_type": "execute_result",
          "data": {
            "text/plain": [
              "42"
            ]
          },
          "metadata": {},
          "execution_count": 13
        }
      ],
      "source": [
        "pl.seed_everything(42)"
      ]
    },
    {
      "cell_type": "code",
      "execution_count": 14,
      "metadata": {
        "colab": {
          "base_uri": "https://localhost:8080/"
        },
        "id": "5dvmzrSAvYN_",
        "outputId": "e77c5567-9d4e-4857-debd-24da61170e1e"
      },
      "outputs": [
        {
          "output_type": "execute_result",
          "data": {
            "text/plain": [
              "device(type='cuda')"
            ]
          },
          "metadata": {},
          "execution_count": 14
        }
      ],
      "source": [
        "device = torch.device(\"cuda\" if torch.cuda.is_available() else \"cpu\")\n",
        "device"
      ]
    },
    {
      "cell_type": "markdown",
      "metadata": {
        "id": "hc4Q1D1rFdZS"
      },
      "source": [
        "## Config"
      ]
    },
    {
      "cell_type": "code",
      "execution_count": 15,
      "metadata": {
        "id": "Ugb7Rq2ZFecE"
      },
      "outputs": [],
      "source": [
        "class Config:\n",
        "  \n",
        "  class Preprocessing:\n",
        "    FILTER_LEN_USER = 100\n",
        "    FILTER_LEN_POI = 200\n",
        "    SEQUENCE_LENGTH = 60\n",
        "    FEATURES = [\n",
        "      \"day_of_month\",\t\"day_of_week\",\"week_of_year\",\t\"month\", \"lng\",\t\"lat\", \"temp\", \"humidity\", \"distance\",\"time_delta\"\n",
        "    ]\n",
        "    TRAIN_SEQUENCE_RATIO = 0.9\n",
        "\n",
        "  class Training:\n",
        "    BATCH_SIZE = 32\n",
        "    LEARNING_RATE = 0.0001\n",
        "    WEIGHT_DECAY = 1e-5\n",
        "    EPOCHS = 20\n",
        "  \n",
        "  class Evaluation:\n",
        "    K_VALUES = [5, 10, 15, 20]"
      ]
    },
    {
      "cell_type": "markdown",
      "metadata": {
        "id": "81u8V7YR78XJ"
      },
      "source": [
        "## Data Loading"
      ]
    },
    {
      "cell_type": "code",
      "execution_count": 16,
      "metadata": {
        "colab": {
          "base_uri": "https://localhost:8080/"
        },
        "id": "P6VZ0cixc2PF",
        "outputId": "8837d6ab-e60e-4b5f-ebe6-7ad2eecb7bd6"
      },
      "outputs": [
        {
          "output_type": "execute_result",
          "data": {
            "text/plain": [
              "(1499999, 3)"
            ]
          },
          "metadata": {},
          "execution_count": 16
        }
      ],
      "source": [
        "# df_checkins = pd.read_csv(\"gowalla_checkinsdataset.csv\", parse_dates=[\"datetime\"], nrows=200_000)\n",
        "df_checkins = pd.read_csv(\"dataset.csv\", parse_dates=[\"datetime\"])\n",
        "df_checkins.shape"
      ]
    },
    {
      "cell_type": "code",
      "execution_count": 17,
      "metadata": {
        "colab": {
          "base_uri": "https://localhost:8080/",
          "height": 206
        },
        "id": "3aJo30NLc9RB",
        "outputId": "59149baa-a5c4-439a-dbba-abd10b2a499a"
      },
      "outputs": [
        {
          "output_type": "execute_result",
          "data": {
            "text/html": [
              "\n",
              "  <div id=\"df-bc0a3c4d-4f7e-4463-bd72-87a758b02a6a\">\n",
              "    <div class=\"colab-df-container\">\n",
              "      <div>\n",
              "<style scoped>\n",
              "    .dataframe tbody tr th:only-of-type {\n",
              "        vertical-align: middle;\n",
              "    }\n",
              "\n",
              "    .dataframe tbody tr th {\n",
              "        vertical-align: top;\n",
              "    }\n",
              "\n",
              "    .dataframe thead th {\n",
              "        text-align: right;\n",
              "    }\n",
              "</style>\n",
              "<table border=\"1\" class=\"dataframe\">\n",
              "  <thead>\n",
              "    <tr style=\"text-align: right;\">\n",
              "      <th></th>\n",
              "      <th>userid</th>\n",
              "      <th>poiid</th>\n",
              "      <th>datetime</th>\n",
              "    </tr>\n",
              "  </thead>\n",
              "  <tbody>\n",
              "    <tr>\n",
              "      <th>0</th>\n",
              "      <td>1338</td>\n",
              "      <td>482954</td>\n",
              "      <td>2011-06-23 02:24:22+00:00</td>\n",
              "    </tr>\n",
              "    <tr>\n",
              "      <th>1</th>\n",
              "      <td>1338</td>\n",
              "      <td>580963</td>\n",
              "      <td>2011-06-22 14:23:03+00:00</td>\n",
              "    </tr>\n",
              "    <tr>\n",
              "      <th>2</th>\n",
              "      <td>1338</td>\n",
              "      <td>365256</td>\n",
              "      <td>2011-06-09 23:29:30+00:00</td>\n",
              "    </tr>\n",
              "    <tr>\n",
              "      <th>3</th>\n",
              "      <td>1338</td>\n",
              "      <td>89504</td>\n",
              "      <td>2011-05-22 15:54:30+00:00</td>\n",
              "    </tr>\n",
              "    <tr>\n",
              "      <th>4</th>\n",
              "      <td>1338</td>\n",
              "      <td>1267135</td>\n",
              "      <td>2011-05-21 16:51:13+00:00</td>\n",
              "    </tr>\n",
              "  </tbody>\n",
              "</table>\n",
              "</div>\n",
              "      <button class=\"colab-df-convert\" onclick=\"convertToInteractive('df-bc0a3c4d-4f7e-4463-bd72-87a758b02a6a')\"\n",
              "              title=\"Convert this dataframe to an interactive table.\"\n",
              "              style=\"display:none;\">\n",
              "        \n",
              "  <svg xmlns=\"http://www.w3.org/2000/svg\" height=\"24px\"viewBox=\"0 0 24 24\"\n",
              "       width=\"24px\">\n",
              "    <path d=\"M0 0h24v24H0V0z\" fill=\"none\"/>\n",
              "    <path d=\"M18.56 5.44l.94 2.06.94-2.06 2.06-.94-2.06-.94-.94-2.06-.94 2.06-2.06.94zm-11 1L8.5 8.5l.94-2.06 2.06-.94-2.06-.94L8.5 2.5l-.94 2.06-2.06.94zm10 10l.94 2.06.94-2.06 2.06-.94-2.06-.94-.94-2.06-.94 2.06-2.06.94z\"/><path d=\"M17.41 7.96l-1.37-1.37c-.4-.4-.92-.59-1.43-.59-.52 0-1.04.2-1.43.59L10.3 9.45l-7.72 7.72c-.78.78-.78 2.05 0 2.83L4 21.41c.39.39.9.59 1.41.59.51 0 1.02-.2 1.41-.59l7.78-7.78 2.81-2.81c.8-.78.8-2.07 0-2.86zM5.41 20L4 18.59l7.72-7.72 1.47 1.35L5.41 20z\"/>\n",
              "  </svg>\n",
              "      </button>\n",
              "      \n",
              "  <style>\n",
              "    .colab-df-container {\n",
              "      display:flex;\n",
              "      flex-wrap:wrap;\n",
              "      gap: 12px;\n",
              "    }\n",
              "\n",
              "    .colab-df-convert {\n",
              "      background-color: #E8F0FE;\n",
              "      border: none;\n",
              "      border-radius: 50%;\n",
              "      cursor: pointer;\n",
              "      display: none;\n",
              "      fill: #1967D2;\n",
              "      height: 32px;\n",
              "      padding: 0 0 0 0;\n",
              "      width: 32px;\n",
              "    }\n",
              "\n",
              "    .colab-df-convert:hover {\n",
              "      background-color: #E2EBFA;\n",
              "      box-shadow: 0px 1px 2px rgba(60, 64, 67, 0.3), 0px 1px 3px 1px rgba(60, 64, 67, 0.15);\n",
              "      fill: #174EA6;\n",
              "    }\n",
              "\n",
              "    [theme=dark] .colab-df-convert {\n",
              "      background-color: #3B4455;\n",
              "      fill: #D2E3FC;\n",
              "    }\n",
              "\n",
              "    [theme=dark] .colab-df-convert:hover {\n",
              "      background-color: #434B5C;\n",
              "      box-shadow: 0px 1px 3px 1px rgba(0, 0, 0, 0.15);\n",
              "      filter: drop-shadow(0px 1px 2px rgba(0, 0, 0, 0.3));\n",
              "      fill: #FFFFFF;\n",
              "    }\n",
              "  </style>\n",
              "\n",
              "      <script>\n",
              "        const buttonEl =\n",
              "          document.querySelector('#df-bc0a3c4d-4f7e-4463-bd72-87a758b02a6a button.colab-df-convert');\n",
              "        buttonEl.style.display =\n",
              "          google.colab.kernel.accessAllowed ? 'block' : 'none';\n",
              "\n",
              "        async function convertToInteractive(key) {\n",
              "          const element = document.querySelector('#df-bc0a3c4d-4f7e-4463-bd72-87a758b02a6a');\n",
              "          const dataTable =\n",
              "            await google.colab.kernel.invokeFunction('convertToInteractive',\n",
              "                                                     [key], {});\n",
              "          if (!dataTable) return;\n",
              "\n",
              "          const docLinkHtml = 'Like what you see? Visit the ' +\n",
              "            '<a target=\"_blank\" href=https://colab.research.google.com/notebooks/data_table.ipynb>data table notebook</a>'\n",
              "            + ' to learn more about interactive tables.';\n",
              "          element.innerHTML = '';\n",
              "          dataTable['output_type'] = 'display_data';\n",
              "          await google.colab.output.renderOutput(dataTable, element);\n",
              "          const docLink = document.createElement('div');\n",
              "          docLink.innerHTML = docLinkHtml;\n",
              "          element.appendChild(docLink);\n",
              "        }\n",
              "      </script>\n",
              "    </div>\n",
              "  </div>\n",
              "  "
            ],
            "text/plain": [
              "   userid    poiid                  datetime\n",
              "0    1338   482954 2011-06-23 02:24:22+00:00\n",
              "1    1338   580963 2011-06-22 14:23:03+00:00\n",
              "2    1338   365256 2011-06-09 23:29:30+00:00\n",
              "3    1338    89504 2011-05-22 15:54:30+00:00\n",
              "4    1338  1267135 2011-05-21 16:51:13+00:00"
            ]
          },
          "metadata": {},
          "execution_count": 17
        }
      ],
      "source": [
        "df_checkins.head()"
      ]
    },
    {
      "cell_type": "code",
      "execution_count": 18,
      "metadata": {
        "colab": {
          "base_uri": "https://localhost:8080/"
        },
        "id": "gUpKXT0PdFYx",
        "outputId": "43f60dba-2c2c-4f45-a58d-c2bcf3dc8ee1"
      },
      "outputs": [
        {
          "output_type": "execute_result",
          "data": {
            "text/plain": [
              "(1999999, 3)"
            ]
          },
          "metadata": {},
          "execution_count": 18
        }
      ],
      "source": [
        "df_spots = pd.read_csv(\"g_s_sdataset.csv\")\n",
        "df_spots.shape"
      ]
    },
    {
      "cell_type": "code",
      "execution_count": 19,
      "metadata": {
        "colab": {
          "base_uri": "https://localhost:8080/",
          "height": 206
        },
        "id": "rv4vOg_0lJO-",
        "outputId": "d332671d-2d81-4a43-a5fe-35a5dc839c8c"
      },
      "outputs": [
        {
          "output_type": "execute_result",
          "data": {
            "text/html": [
              "\n",
              "  <div id=\"df-161234c5-7c15-4a32-ba7d-160e06116c22\">\n",
              "    <div class=\"colab-df-container\">\n",
              "      <div>\n",
              "<style scoped>\n",
              "    .dataframe tbody tr th:only-of-type {\n",
              "        vertical-align: middle;\n",
              "    }\n",
              "\n",
              "    .dataframe tbody tr th {\n",
              "        vertical-align: top;\n",
              "    }\n",
              "\n",
              "    .dataframe thead th {\n",
              "        text-align: right;\n",
              "    }\n",
              "</style>\n",
              "<table border=\"1\" class=\"dataframe\">\n",
              "  <thead>\n",
              "    <tr style=\"text-align: right;\">\n",
              "      <th></th>\n",
              "      <th>poiid</th>\n",
              "      <th>lng</th>\n",
              "      <th>lat</th>\n",
              "    </tr>\n",
              "  </thead>\n",
              "  <tbody>\n",
              "    <tr>\n",
              "      <th>0</th>\n",
              "      <td>8904</td>\n",
              "      <td>-94.607499</td>\n",
              "      <td>39.052318</td>\n",
              "    </tr>\n",
              "    <tr>\n",
              "      <th>1</th>\n",
              "      <td>8932</td>\n",
              "      <td>-97.254356</td>\n",
              "      <td>32.927662</td>\n",
              "    </tr>\n",
              "    <tr>\n",
              "      <th>2</th>\n",
              "      <td>8936</td>\n",
              "      <td>-94.591995</td>\n",
              "      <td>39.053318</td>\n",
              "    </tr>\n",
              "    <tr>\n",
              "      <th>3</th>\n",
              "      <td>8938</td>\n",
              "      <td>-94.590311</td>\n",
              "      <td>39.052824</td>\n",
              "    </tr>\n",
              "    <tr>\n",
              "      <th>4</th>\n",
              "      <td>8947</td>\n",
              "      <td>-122.029631</td>\n",
              "      <td>37.331880</td>\n",
              "    </tr>\n",
              "  </tbody>\n",
              "</table>\n",
              "</div>\n",
              "      <button class=\"colab-df-convert\" onclick=\"convertToInteractive('df-161234c5-7c15-4a32-ba7d-160e06116c22')\"\n",
              "              title=\"Convert this dataframe to an interactive table.\"\n",
              "              style=\"display:none;\">\n",
              "        \n",
              "  <svg xmlns=\"http://www.w3.org/2000/svg\" height=\"24px\"viewBox=\"0 0 24 24\"\n",
              "       width=\"24px\">\n",
              "    <path d=\"M0 0h24v24H0V0z\" fill=\"none\"/>\n",
              "    <path d=\"M18.56 5.44l.94 2.06.94-2.06 2.06-.94-2.06-.94-.94-2.06-.94 2.06-2.06.94zm-11 1L8.5 8.5l.94-2.06 2.06-.94-2.06-.94L8.5 2.5l-.94 2.06-2.06.94zm10 10l.94 2.06.94-2.06 2.06-.94-2.06-.94-.94-2.06-.94 2.06-2.06.94z\"/><path d=\"M17.41 7.96l-1.37-1.37c-.4-.4-.92-.59-1.43-.59-.52 0-1.04.2-1.43.59L10.3 9.45l-7.72 7.72c-.78.78-.78 2.05 0 2.83L4 21.41c.39.39.9.59 1.41.59.51 0 1.02-.2 1.41-.59l7.78-7.78 2.81-2.81c.8-.78.8-2.07 0-2.86zM5.41 20L4 18.59l7.72-7.72 1.47 1.35L5.41 20z\"/>\n",
              "  </svg>\n",
              "      </button>\n",
              "      \n",
              "  <style>\n",
              "    .colab-df-container {\n",
              "      display:flex;\n",
              "      flex-wrap:wrap;\n",
              "      gap: 12px;\n",
              "    }\n",
              "\n",
              "    .colab-df-convert {\n",
              "      background-color: #E8F0FE;\n",
              "      border: none;\n",
              "      border-radius: 50%;\n",
              "      cursor: pointer;\n",
              "      display: none;\n",
              "      fill: #1967D2;\n",
              "      height: 32px;\n",
              "      padding: 0 0 0 0;\n",
              "      width: 32px;\n",
              "    }\n",
              "\n",
              "    .colab-df-convert:hover {\n",
              "      background-color: #E2EBFA;\n",
              "      box-shadow: 0px 1px 2px rgba(60, 64, 67, 0.3), 0px 1px 3px 1px rgba(60, 64, 67, 0.15);\n",
              "      fill: #174EA6;\n",
              "    }\n",
              "\n",
              "    [theme=dark] .colab-df-convert {\n",
              "      background-color: #3B4455;\n",
              "      fill: #D2E3FC;\n",
              "    }\n",
              "\n",
              "    [theme=dark] .colab-df-convert:hover {\n",
              "      background-color: #434B5C;\n",
              "      box-shadow: 0px 1px 3px 1px rgba(0, 0, 0, 0.15);\n",
              "      filter: drop-shadow(0px 1px 2px rgba(0, 0, 0, 0.3));\n",
              "      fill: #FFFFFF;\n",
              "    }\n",
              "  </style>\n",
              "\n",
              "      <script>\n",
              "        const buttonEl =\n",
              "          document.querySelector('#df-161234c5-7c15-4a32-ba7d-160e06116c22 button.colab-df-convert');\n",
              "        buttonEl.style.display =\n",
              "          google.colab.kernel.accessAllowed ? 'block' : 'none';\n",
              "\n",
              "        async function convertToInteractive(key) {\n",
              "          const element = document.querySelector('#df-161234c5-7c15-4a32-ba7d-160e06116c22');\n",
              "          const dataTable =\n",
              "            await google.colab.kernel.invokeFunction('convertToInteractive',\n",
              "                                                     [key], {});\n",
              "          if (!dataTable) return;\n",
              "\n",
              "          const docLinkHtml = 'Like what you see? Visit the ' +\n",
              "            '<a target=\"_blank\" href=https://colab.research.google.com/notebooks/data_table.ipynb>data table notebook</a>'\n",
              "            + ' to learn more about interactive tables.';\n",
              "          element.innerHTML = '';\n",
              "          dataTable['output_type'] = 'display_data';\n",
              "          await google.colab.output.renderOutput(dataTable, element);\n",
              "          const docLink = document.createElement('div');\n",
              "          docLink.innerHTML = docLinkHtml;\n",
              "          element.appendChild(docLink);\n",
              "        }\n",
              "      </script>\n",
              "    </div>\n",
              "  </div>\n",
              "  "
            ],
            "text/plain": [
              "   poiid         lng        lat\n",
              "0   8904  -94.607499  39.052318\n",
              "1   8932  -97.254356  32.927662\n",
              "2   8936  -94.591995  39.053318\n",
              "3   8938  -94.590311  39.052824\n",
              "4   8947 -122.029631  37.331880"
            ]
          },
          "metadata": {},
          "execution_count": 19
        }
      ],
      "source": [
        "df_spots.head()"
      ]
    },
    {
      "cell_type": "code",
      "execution_count": 20,
      "metadata": {
        "colab": {
          "base_uri": "https://localhost:8080/"
        },
        "id": "u23HMehj8JLf",
        "outputId": "9eab7b9b-0b78-4749-a3d4-9dd790ae5689"
      },
      "outputs": [
        {
          "output_type": "execute_result",
          "data": {
            "text/plain": [
              "((2038648, 10), (360895, 10), (509662, 10))"
            ]
          },
          "metadata": {},
          "execution_count": 20
        }
      ],
      "source": [
        "df_weather_1 = pd.read_csv(\"w1.csv\", parse_dates=[\"datetime\"])\n",
        "df_weather_2 = pd.read_csv(\"w2.csv\", parse_dates=[\"datetime\"])\n",
        "df_weather_3 = pd.read_csv(\"w3.csv\", parse_dates=[\"datetime\"])\n",
        "df_weather_1.shape, df_weather_2.shape, df_weather_3.shape"
      ]
    },
    {
      "cell_type": "markdown",
      "metadata": {
        "id": "r5tE-V7s7_Oz"
      },
      "source": [
        "### Weather data"
      ]
    },
    {
      "cell_type": "code",
      "execution_count": 21,
      "metadata": {
        "colab": {
          "base_uri": "https://localhost:8080/"
        },
        "id": "klhqHs0l8lfR",
        "outputId": "0e925332-18d8-4533-dc47-7d9831a6d85d"
      },
      "outputs": [
        {
          "output_type": "execute_result",
          "data": {
            "text/plain": [
              "(2909205, 10)"
            ]
          },
          "metadata": {},
          "execution_count": 21
        }
      ],
      "source": [
        "df_weather = pd.concat([df_weather_1, df_weather_2, df_weather_3], axis=0)\n",
        "df_weather.shape"
      ]
    },
    {
      "cell_type": "code",
      "execution_count": 22,
      "metadata": {
        "colab": {
          "base_uri": "https://localhost:8080/"
        },
        "id": "efSEkuo18wVz",
        "outputId": "6e53da0a-9ac0-4b72-ed84-dc0f6aa9c5f0"
      },
      "outputs": [
        {
          "output_type": "execute_result",
          "data": {
            "text/plain": [
              "(2380626, 10)"
            ]
          },
          "metadata": {},
          "execution_count": 22
        }
      ],
      "source": [
        "df_weather = df_weather.drop_duplicates()\n",
        "df_weather.shape"
      ]
    },
    {
      "cell_type": "code",
      "execution_count": 23,
      "metadata": {
        "colab": {
          "base_uri": "https://localhost:8080/",
          "height": 206
        },
        "id": "DedPqqPb9JfW",
        "outputId": "ea3952dd-6896-4352-bc60-d7260d25b5b1"
      },
      "outputs": [
        {
          "output_type": "execute_result",
          "data": {
            "text/html": [
              "\n",
              "  <div id=\"df-ee224405-5d74-47b7-9dbc-95b9cc6b2d1f\">\n",
              "    <div class=\"colab-df-container\">\n",
              "      <div>\n",
              "<style scoped>\n",
              "    .dataframe tbody tr th:only-of-type {\n",
              "        vertical-align: middle;\n",
              "    }\n",
              "\n",
              "    .dataframe tbody tr th {\n",
              "        vertical-align: top;\n",
              "    }\n",
              "\n",
              "    .dataframe thead th {\n",
              "        text-align: right;\n",
              "    }\n",
              "</style>\n",
              "<table border=\"1\" class=\"dataframe\">\n",
              "  <thead>\n",
              "    <tr style=\"text-align: right;\">\n",
              "      <th></th>\n",
              "      <th>userid</th>\n",
              "      <th>placeid</th>\n",
              "      <th>datetime</th>\n",
              "      <th>lng</th>\n",
              "      <th>lat</th>\n",
              "      <th>temp</th>\n",
              "      <th>wspd</th>\n",
              "      <th>humidity</th>\n",
              "      <th>rainy</th>\n",
              "      <th>snow</th>\n",
              "    </tr>\n",
              "  </thead>\n",
              "  <tbody>\n",
              "    <tr>\n",
              "      <th>0</th>\n",
              "      <td>90083</td>\n",
              "      <td>341979</td>\n",
              "      <td>2010-02-25 19:05:06+00:00</td>\n",
              "      <td>-111.646022</td>\n",
              "      <td>40.248878</td>\n",
              "      <td>37</td>\n",
              "      <td>NaN</td>\n",
              "      <td>87</td>\n",
              "      <td>NaN</td>\n",
              "      <td>NaN</td>\n",
              "    </tr>\n",
              "    <tr>\n",
              "      <th>1</th>\n",
              "      <td>4426</td>\n",
              "      <td>166049</td>\n",
              "      <td>2011-04-10 02:43:25+00:00</td>\n",
              "      <td>-104.890635</td>\n",
              "      <td>39.782763</td>\n",
              "      <td>43</td>\n",
              "      <td>16</td>\n",
              "      <td>66</td>\n",
              "      <td>NaN</td>\n",
              "      <td>NaN</td>\n",
              "    </tr>\n",
              "    <tr>\n",
              "      <th>2</th>\n",
              "      <td>358925</td>\n",
              "      <td>870215</td>\n",
              "      <td>2011-01-09 15:17:00+00:00</td>\n",
              "      <td>11.281729</td>\n",
              "      <td>58.598270</td>\n",
              "      <td>36</td>\n",
              "      <td>25</td>\n",
              "      <td>94</td>\n",
              "      <td>NaN</td>\n",
              "      <td>NaN</td>\n",
              "    </tr>\n",
              "    <tr>\n",
              "      <th>3</th>\n",
              "      <td>18220</td>\n",
              "      <td>96858</td>\n",
              "      <td>2010-03-18 00:32:31+00:00</td>\n",
              "      <td>-122.401620</td>\n",
              "      <td>37.786076</td>\n",
              "      <td>54</td>\n",
              "      <td>5</td>\n",
              "      <td>83</td>\n",
              "      <td>NaN</td>\n",
              "      <td>NaN</td>\n",
              "    </tr>\n",
              "    <tr>\n",
              "      <th>4</th>\n",
              "      <td>2128458</td>\n",
              "      <td>2435711</td>\n",
              "      <td>2011-04-11 19:51:07+00:00</td>\n",
              "      <td>-97.738503</td>\n",
              "      <td>30.283243</td>\n",
              "      <td>80</td>\n",
              "      <td>13</td>\n",
              "      <td>20</td>\n",
              "      <td>NaN</td>\n",
              "      <td>NaN</td>\n",
              "    </tr>\n",
              "  </tbody>\n",
              "</table>\n",
              "</div>\n",
              "      <button class=\"colab-df-convert\" onclick=\"convertToInteractive('df-ee224405-5d74-47b7-9dbc-95b9cc6b2d1f')\"\n",
              "              title=\"Convert this dataframe to an interactive table.\"\n",
              "              style=\"display:none;\">\n",
              "        \n",
              "  <svg xmlns=\"http://www.w3.org/2000/svg\" height=\"24px\"viewBox=\"0 0 24 24\"\n",
              "       width=\"24px\">\n",
              "    <path d=\"M0 0h24v24H0V0z\" fill=\"none\"/>\n",
              "    <path d=\"M18.56 5.44l.94 2.06.94-2.06 2.06-.94-2.06-.94-.94-2.06-.94 2.06-2.06.94zm-11 1L8.5 8.5l.94-2.06 2.06-.94-2.06-.94L8.5 2.5l-.94 2.06-2.06.94zm10 10l.94 2.06.94-2.06 2.06-.94-2.06-.94-.94-2.06-.94 2.06-2.06.94z\"/><path d=\"M17.41 7.96l-1.37-1.37c-.4-.4-.92-.59-1.43-.59-.52 0-1.04.2-1.43.59L10.3 9.45l-7.72 7.72c-.78.78-.78 2.05 0 2.83L4 21.41c.39.39.9.59 1.41.59.51 0 1.02-.2 1.41-.59l7.78-7.78 2.81-2.81c.8-.78.8-2.07 0-2.86zM5.41 20L4 18.59l7.72-7.72 1.47 1.35L5.41 20z\"/>\n",
              "  </svg>\n",
              "      </button>\n",
              "      \n",
              "  <style>\n",
              "    .colab-df-container {\n",
              "      display:flex;\n",
              "      flex-wrap:wrap;\n",
              "      gap: 12px;\n",
              "    }\n",
              "\n",
              "    .colab-df-convert {\n",
              "      background-color: #E8F0FE;\n",
              "      border: none;\n",
              "      border-radius: 50%;\n",
              "      cursor: pointer;\n",
              "      display: none;\n",
              "      fill: #1967D2;\n",
              "      height: 32px;\n",
              "      padding: 0 0 0 0;\n",
              "      width: 32px;\n",
              "    }\n",
              "\n",
              "    .colab-df-convert:hover {\n",
              "      background-color: #E2EBFA;\n",
              "      box-shadow: 0px 1px 2px rgba(60, 64, 67, 0.3), 0px 1px 3px 1px rgba(60, 64, 67, 0.15);\n",
              "      fill: #174EA6;\n",
              "    }\n",
              "\n",
              "    [theme=dark] .colab-df-convert {\n",
              "      background-color: #3B4455;\n",
              "      fill: #D2E3FC;\n",
              "    }\n",
              "\n",
              "    [theme=dark] .colab-df-convert:hover {\n",
              "      background-color: #434B5C;\n",
              "      box-shadow: 0px 1px 3px 1px rgba(0, 0, 0, 0.15);\n",
              "      filter: drop-shadow(0px 1px 2px rgba(0, 0, 0, 0.3));\n",
              "      fill: #FFFFFF;\n",
              "    }\n",
              "  </style>\n",
              "\n",
              "      <script>\n",
              "        const buttonEl =\n",
              "          document.querySelector('#df-ee224405-5d74-47b7-9dbc-95b9cc6b2d1f button.colab-df-convert');\n",
              "        buttonEl.style.display =\n",
              "          google.colab.kernel.accessAllowed ? 'block' : 'none';\n",
              "\n",
              "        async function convertToInteractive(key) {\n",
              "          const element = document.querySelector('#df-ee224405-5d74-47b7-9dbc-95b9cc6b2d1f');\n",
              "          const dataTable =\n",
              "            await google.colab.kernel.invokeFunction('convertToInteractive',\n",
              "                                                     [key], {});\n",
              "          if (!dataTable) return;\n",
              "\n",
              "          const docLinkHtml = 'Like what you see? Visit the ' +\n",
              "            '<a target=\"_blank\" href=https://colab.research.google.com/notebooks/data_table.ipynb>data table notebook</a>'\n",
              "            + ' to learn more about interactive tables.';\n",
              "          element.innerHTML = '';\n",
              "          dataTable['output_type'] = 'display_data';\n",
              "          await google.colab.output.renderOutput(dataTable, element);\n",
              "          const docLink = document.createElement('div');\n",
              "          docLink.innerHTML = docLinkHtml;\n",
              "          element.appendChild(docLink);\n",
              "        }\n",
              "      </script>\n",
              "    </div>\n",
              "  </div>\n",
              "  "
            ],
            "text/plain": [
              "    userid  placeid                  datetime  ...  humidity  rainy snow\n",
              "0    90083   341979 2010-02-25 19:05:06+00:00  ...        87    NaN  NaN\n",
              "1     4426   166049 2011-04-10 02:43:25+00:00  ...        66    NaN  NaN\n",
              "2   358925   870215 2011-01-09 15:17:00+00:00  ...        94    NaN  NaN\n",
              "3    18220    96858 2010-03-18 00:32:31+00:00  ...        83    NaN  NaN\n",
              "4  2128458  2435711 2011-04-11 19:51:07+00:00  ...        20    NaN  NaN\n",
              "\n",
              "[5 rows x 10 columns]"
            ]
          },
          "metadata": {},
          "execution_count": 23
        }
      ],
      "source": [
        "df_weather.head()"
      ]
    },
    {
      "cell_type": "code",
      "execution_count": 24,
      "metadata": {
        "colab": {
          "base_uri": "https://localhost:8080/",
          "height": 206
        },
        "id": "Per_DpBk_5YE",
        "outputId": "b0db1609-4833-4caf-e5b9-51b855ce5cbf"
      },
      "outputs": [
        {
          "output_type": "execute_result",
          "data": {
            "text/html": [
              "\n",
              "  <div id=\"df-aa63fc83-5e63-4f24-b9fd-8db10b85f9ce\">\n",
              "    <div class=\"colab-df-container\">\n",
              "      <div>\n",
              "<style scoped>\n",
              "    .dataframe tbody tr th:only-of-type {\n",
              "        vertical-align: middle;\n",
              "    }\n",
              "\n",
              "    .dataframe tbody tr th {\n",
              "        vertical-align: top;\n",
              "    }\n",
              "\n",
              "    .dataframe thead th {\n",
              "        text-align: right;\n",
              "    }\n",
              "</style>\n",
              "<table border=\"1\" class=\"dataframe\">\n",
              "  <thead>\n",
              "    <tr style=\"text-align: right;\">\n",
              "      <th></th>\n",
              "      <th>userid</th>\n",
              "      <th>poiid</th>\n",
              "      <th>datetime</th>\n",
              "      <th>lng</th>\n",
              "      <th>lat</th>\n",
              "      <th>temp</th>\n",
              "      <th>wspd</th>\n",
              "      <th>humidity</th>\n",
              "      <th>rainy</th>\n",
              "      <th>snow</th>\n",
              "    </tr>\n",
              "  </thead>\n",
              "  <tbody>\n",
              "    <tr>\n",
              "      <th>0</th>\n",
              "      <td>90083</td>\n",
              "      <td>341979</td>\n",
              "      <td>2010-02-25 19:05:06+00:00</td>\n",
              "      <td>-111.646022</td>\n",
              "      <td>40.248878</td>\n",
              "      <td>37</td>\n",
              "      <td>NaN</td>\n",
              "      <td>87</td>\n",
              "      <td>NaN</td>\n",
              "      <td>NaN</td>\n",
              "    </tr>\n",
              "    <tr>\n",
              "      <th>1</th>\n",
              "      <td>4426</td>\n",
              "      <td>166049</td>\n",
              "      <td>2011-04-10 02:43:25+00:00</td>\n",
              "      <td>-104.890635</td>\n",
              "      <td>39.782763</td>\n",
              "      <td>43</td>\n",
              "      <td>16</td>\n",
              "      <td>66</td>\n",
              "      <td>NaN</td>\n",
              "      <td>NaN</td>\n",
              "    </tr>\n",
              "    <tr>\n",
              "      <th>2</th>\n",
              "      <td>358925</td>\n",
              "      <td>870215</td>\n",
              "      <td>2011-01-09 15:17:00+00:00</td>\n",
              "      <td>11.281729</td>\n",
              "      <td>58.598270</td>\n",
              "      <td>36</td>\n",
              "      <td>25</td>\n",
              "      <td>94</td>\n",
              "      <td>NaN</td>\n",
              "      <td>NaN</td>\n",
              "    </tr>\n",
              "    <tr>\n",
              "      <th>3</th>\n",
              "      <td>18220</td>\n",
              "      <td>96858</td>\n",
              "      <td>2010-03-18 00:32:31+00:00</td>\n",
              "      <td>-122.401620</td>\n",
              "      <td>37.786076</td>\n",
              "      <td>54</td>\n",
              "      <td>5</td>\n",
              "      <td>83</td>\n",
              "      <td>NaN</td>\n",
              "      <td>NaN</td>\n",
              "    </tr>\n",
              "    <tr>\n",
              "      <th>4</th>\n",
              "      <td>2128458</td>\n",
              "      <td>2435711</td>\n",
              "      <td>2011-04-11 19:51:07+00:00</td>\n",
              "      <td>-97.738503</td>\n",
              "      <td>30.283243</td>\n",
              "      <td>80</td>\n",
              "      <td>13</td>\n",
              "      <td>20</td>\n",
              "      <td>NaN</td>\n",
              "      <td>NaN</td>\n",
              "    </tr>\n",
              "  </tbody>\n",
              "</table>\n",
              "</div>\n",
              "      <button class=\"colab-df-convert\" onclick=\"convertToInteractive('df-aa63fc83-5e63-4f24-b9fd-8db10b85f9ce')\"\n",
              "              title=\"Convert this dataframe to an interactive table.\"\n",
              "              style=\"display:none;\">\n",
              "        \n",
              "  <svg xmlns=\"http://www.w3.org/2000/svg\" height=\"24px\"viewBox=\"0 0 24 24\"\n",
              "       width=\"24px\">\n",
              "    <path d=\"M0 0h24v24H0V0z\" fill=\"none\"/>\n",
              "    <path d=\"M18.56 5.44l.94 2.06.94-2.06 2.06-.94-2.06-.94-.94-2.06-.94 2.06-2.06.94zm-11 1L8.5 8.5l.94-2.06 2.06-.94-2.06-.94L8.5 2.5l-.94 2.06-2.06.94zm10 10l.94 2.06.94-2.06 2.06-.94-2.06-.94-.94-2.06-.94 2.06-2.06.94z\"/><path d=\"M17.41 7.96l-1.37-1.37c-.4-.4-.92-.59-1.43-.59-.52 0-1.04.2-1.43.59L10.3 9.45l-7.72 7.72c-.78.78-.78 2.05 0 2.83L4 21.41c.39.39.9.59 1.41.59.51 0 1.02-.2 1.41-.59l7.78-7.78 2.81-2.81c.8-.78.8-2.07 0-2.86zM5.41 20L4 18.59l7.72-7.72 1.47 1.35L5.41 20z\"/>\n",
              "  </svg>\n",
              "      </button>\n",
              "      \n",
              "  <style>\n",
              "    .colab-df-container {\n",
              "      display:flex;\n",
              "      flex-wrap:wrap;\n",
              "      gap: 12px;\n",
              "    }\n",
              "\n",
              "    .colab-df-convert {\n",
              "      background-color: #E8F0FE;\n",
              "      border: none;\n",
              "      border-radius: 50%;\n",
              "      cursor: pointer;\n",
              "      display: none;\n",
              "      fill: #1967D2;\n",
              "      height: 32px;\n",
              "      padding: 0 0 0 0;\n",
              "      width: 32px;\n",
              "    }\n",
              "\n",
              "    .colab-df-convert:hover {\n",
              "      background-color: #E2EBFA;\n",
              "      box-shadow: 0px 1px 2px rgba(60, 64, 67, 0.3), 0px 1px 3px 1px rgba(60, 64, 67, 0.15);\n",
              "      fill: #174EA6;\n",
              "    }\n",
              "\n",
              "    [theme=dark] .colab-df-convert {\n",
              "      background-color: #3B4455;\n",
              "      fill: #D2E3FC;\n",
              "    }\n",
              "\n",
              "    [theme=dark] .colab-df-convert:hover {\n",
              "      background-color: #434B5C;\n",
              "      box-shadow: 0px 1px 3px 1px rgba(0, 0, 0, 0.15);\n",
              "      filter: drop-shadow(0px 1px 2px rgba(0, 0, 0, 0.3));\n",
              "      fill: #FFFFFF;\n",
              "    }\n",
              "  </style>\n",
              "\n",
              "      <script>\n",
              "        const buttonEl =\n",
              "          document.querySelector('#df-aa63fc83-5e63-4f24-b9fd-8db10b85f9ce button.colab-df-convert');\n",
              "        buttonEl.style.display =\n",
              "          google.colab.kernel.accessAllowed ? 'block' : 'none';\n",
              "\n",
              "        async function convertToInteractive(key) {\n",
              "          const element = document.querySelector('#df-aa63fc83-5e63-4f24-b9fd-8db10b85f9ce');\n",
              "          const dataTable =\n",
              "            await google.colab.kernel.invokeFunction('convertToInteractive',\n",
              "                                                     [key], {});\n",
              "          if (!dataTable) return;\n",
              "\n",
              "          const docLinkHtml = 'Like what you see? Visit the ' +\n",
              "            '<a target=\"_blank\" href=https://colab.research.google.com/notebooks/data_table.ipynb>data table notebook</a>'\n",
              "            + ' to learn more about interactive tables.';\n",
              "          element.innerHTML = '';\n",
              "          dataTable['output_type'] = 'display_data';\n",
              "          await google.colab.output.renderOutput(dataTable, element);\n",
              "          const docLink = document.createElement('div');\n",
              "          docLink.innerHTML = docLinkHtml;\n",
              "          element.appendChild(docLink);\n",
              "        }\n",
              "      </script>\n",
              "    </div>\n",
              "  </div>\n",
              "  "
            ],
            "text/plain": [
              "    userid    poiid                  datetime  ...  humidity  rainy snow\n",
              "0    90083   341979 2010-02-25 19:05:06+00:00  ...        87    NaN  NaN\n",
              "1     4426   166049 2011-04-10 02:43:25+00:00  ...        66    NaN  NaN\n",
              "2   358925   870215 2011-01-09 15:17:00+00:00  ...        94    NaN  NaN\n",
              "3    18220    96858 2010-03-18 00:32:31+00:00  ...        83    NaN  NaN\n",
              "4  2128458  2435711 2011-04-11 19:51:07+00:00  ...        20    NaN  NaN\n",
              "\n",
              "[5 rows x 10 columns]"
            ]
          },
          "metadata": {},
          "execution_count": 24
        }
      ],
      "source": [
        "columns = df_weather.columns.tolist()\n",
        "columns[1] = \"poiid\"\n",
        "df_weather.columns = columns\n",
        "df_weather.head()"
      ]
    },
    {
      "cell_type": "code",
      "execution_count": 25,
      "metadata": {
        "colab": {
          "base_uri": "https://localhost:8080/"
        },
        "id": "x7A3xgZzMVhJ",
        "outputId": "065f3cd5-45b5-4a47-e819-3c0c0f6a76c4"
      },
      "outputs": [
        {
          "output_type": "execute_result",
          "data": {
            "text/plain": [
              "(2380626, 10)"
            ]
          },
          "metadata": {},
          "execution_count": 25
        }
      ],
      "source": [
        "df_weather.shape"
      ]
    },
    {
      "cell_type": "code",
      "execution_count": 26,
      "metadata": {
        "colab": {
          "base_uri": "https://localhost:8080/"
        },
        "id": "_U9ysShUMKxb",
        "outputId": "5f1f82b1-a2f4-49d6-b7ce-8fb24025bca6"
      },
      "outputs": [
        {
          "output_type": "execute_result",
          "data": {
            "text/plain": [
              "userid       0.000000\n",
              "poiid        0.000000\n",
              "datetime     0.000000\n",
              "lng          0.000000\n",
              "lat          0.000000\n",
              "temp         0.565187\n",
              "wspd        12.881444\n",
              "humidity     0.806553\n",
              "rainy       86.208375\n",
              "snow        90.998628\n",
              "dtype: float64"
            ]
          },
          "metadata": {},
          "execution_count": 26
        }
      ],
      "source": [
        "df_weather.isna().sum() * 100 / len(df_weather)"
      ]
    },
    {
      "cell_type": "code",
      "execution_count": 27,
      "metadata": {
        "id": "dkqoJrXJByvO"
      },
      "outputs": [],
      "source": [
        "df_weather = df_weather.drop([\"lng\", \"lat\", \"wspd\", \"rainy\", \"snow\"], axis=1)"
      ]
    },
    {
      "cell_type": "code",
      "execution_count": 28,
      "metadata": {
        "colab": {
          "base_uri": "https://localhost:8080/"
        },
        "id": "PpaEsVWpMbRP",
        "outputId": "bf854fd0-0adc-4c11-fe44-dbd77b8bf807"
      },
      "outputs": [
        {
          "output_type": "execute_result",
          "data": {
            "text/plain": [
              "(2380626, 5)"
            ]
          },
          "metadata": {},
          "execution_count": 28
        }
      ],
      "source": [
        "df_weather.shape"
      ]
    },
    {
      "cell_type": "code",
      "execution_count": 29,
      "metadata": {
        "colab": {
          "base_uri": "https://localhost:8080/",
          "height": 206
        },
        "id": "jmRmkyKi6JGM",
        "outputId": "cd8d0b84-d8b5-4c98-fa58-8497e0dcdda2"
      },
      "outputs": [
        {
          "output_type": "execute_result",
          "data": {
            "text/html": [
              "\n",
              "  <div id=\"df-3edb081b-eadd-4b51-b3da-e1ff7839d43d\">\n",
              "    <div class=\"colab-df-container\">\n",
              "      <div>\n",
              "<style scoped>\n",
              "    .dataframe tbody tr th:only-of-type {\n",
              "        vertical-align: middle;\n",
              "    }\n",
              "\n",
              "    .dataframe tbody tr th {\n",
              "        vertical-align: top;\n",
              "    }\n",
              "\n",
              "    .dataframe thead th {\n",
              "        text-align: right;\n",
              "    }\n",
              "</style>\n",
              "<table border=\"1\" class=\"dataframe\">\n",
              "  <thead>\n",
              "    <tr style=\"text-align: right;\">\n",
              "      <th></th>\n",
              "      <th>userid</th>\n",
              "      <th>poiid</th>\n",
              "      <th>datetime</th>\n",
              "      <th>temp</th>\n",
              "      <th>humidity</th>\n",
              "    </tr>\n",
              "  </thead>\n",
              "  <tbody>\n",
              "    <tr>\n",
              "      <th>0</th>\n",
              "      <td>90083</td>\n",
              "      <td>341979</td>\n",
              "      <td>2010-02-25 19:05:06+00:00</td>\n",
              "      <td>37</td>\n",
              "      <td>87</td>\n",
              "    </tr>\n",
              "    <tr>\n",
              "      <th>1</th>\n",
              "      <td>4426</td>\n",
              "      <td>166049</td>\n",
              "      <td>2011-04-10 02:43:25+00:00</td>\n",
              "      <td>43</td>\n",
              "      <td>66</td>\n",
              "    </tr>\n",
              "    <tr>\n",
              "      <th>2</th>\n",
              "      <td>358925</td>\n",
              "      <td>870215</td>\n",
              "      <td>2011-01-09 15:17:00+00:00</td>\n",
              "      <td>36</td>\n",
              "      <td>94</td>\n",
              "    </tr>\n",
              "    <tr>\n",
              "      <th>3</th>\n",
              "      <td>18220</td>\n",
              "      <td>96858</td>\n",
              "      <td>2010-03-18 00:32:31+00:00</td>\n",
              "      <td>54</td>\n",
              "      <td>83</td>\n",
              "    </tr>\n",
              "    <tr>\n",
              "      <th>4</th>\n",
              "      <td>2128458</td>\n",
              "      <td>2435711</td>\n",
              "      <td>2011-04-11 19:51:07+00:00</td>\n",
              "      <td>80</td>\n",
              "      <td>20</td>\n",
              "    </tr>\n",
              "  </tbody>\n",
              "</table>\n",
              "</div>\n",
              "      <button class=\"colab-df-convert\" onclick=\"convertToInteractive('df-3edb081b-eadd-4b51-b3da-e1ff7839d43d')\"\n",
              "              title=\"Convert this dataframe to an interactive table.\"\n",
              "              style=\"display:none;\">\n",
              "        \n",
              "  <svg xmlns=\"http://www.w3.org/2000/svg\" height=\"24px\"viewBox=\"0 0 24 24\"\n",
              "       width=\"24px\">\n",
              "    <path d=\"M0 0h24v24H0V0z\" fill=\"none\"/>\n",
              "    <path d=\"M18.56 5.44l.94 2.06.94-2.06 2.06-.94-2.06-.94-.94-2.06-.94 2.06-2.06.94zm-11 1L8.5 8.5l.94-2.06 2.06-.94-2.06-.94L8.5 2.5l-.94 2.06-2.06.94zm10 10l.94 2.06.94-2.06 2.06-.94-2.06-.94-.94-2.06-.94 2.06-2.06.94z\"/><path d=\"M17.41 7.96l-1.37-1.37c-.4-.4-.92-.59-1.43-.59-.52 0-1.04.2-1.43.59L10.3 9.45l-7.72 7.72c-.78.78-.78 2.05 0 2.83L4 21.41c.39.39.9.59 1.41.59.51 0 1.02-.2 1.41-.59l7.78-7.78 2.81-2.81c.8-.78.8-2.07 0-2.86zM5.41 20L4 18.59l7.72-7.72 1.47 1.35L5.41 20z\"/>\n",
              "  </svg>\n",
              "      </button>\n",
              "      \n",
              "  <style>\n",
              "    .colab-df-container {\n",
              "      display:flex;\n",
              "      flex-wrap:wrap;\n",
              "      gap: 12px;\n",
              "    }\n",
              "\n",
              "    .colab-df-convert {\n",
              "      background-color: #E8F0FE;\n",
              "      border: none;\n",
              "      border-radius: 50%;\n",
              "      cursor: pointer;\n",
              "      display: none;\n",
              "      fill: #1967D2;\n",
              "      height: 32px;\n",
              "      padding: 0 0 0 0;\n",
              "      width: 32px;\n",
              "    }\n",
              "\n",
              "    .colab-df-convert:hover {\n",
              "      background-color: #E2EBFA;\n",
              "      box-shadow: 0px 1px 2px rgba(60, 64, 67, 0.3), 0px 1px 3px 1px rgba(60, 64, 67, 0.15);\n",
              "      fill: #174EA6;\n",
              "    }\n",
              "\n",
              "    [theme=dark] .colab-df-convert {\n",
              "      background-color: #3B4455;\n",
              "      fill: #D2E3FC;\n",
              "    }\n",
              "\n",
              "    [theme=dark] .colab-df-convert:hover {\n",
              "      background-color: #434B5C;\n",
              "      box-shadow: 0px 1px 3px 1px rgba(0, 0, 0, 0.15);\n",
              "      filter: drop-shadow(0px 1px 2px rgba(0, 0, 0, 0.3));\n",
              "      fill: #FFFFFF;\n",
              "    }\n",
              "  </style>\n",
              "\n",
              "      <script>\n",
              "        const buttonEl =\n",
              "          document.querySelector('#df-3edb081b-eadd-4b51-b3da-e1ff7839d43d button.colab-df-convert');\n",
              "        buttonEl.style.display =\n",
              "          google.colab.kernel.accessAllowed ? 'block' : 'none';\n",
              "\n",
              "        async function convertToInteractive(key) {\n",
              "          const element = document.querySelector('#df-3edb081b-eadd-4b51-b3da-e1ff7839d43d');\n",
              "          const dataTable =\n",
              "            await google.colab.kernel.invokeFunction('convertToInteractive',\n",
              "                                                     [key], {});\n",
              "          if (!dataTable) return;\n",
              "\n",
              "          const docLinkHtml = 'Like what you see? Visit the ' +\n",
              "            '<a target=\"_blank\" href=https://colab.research.google.com/notebooks/data_table.ipynb>data table notebook</a>'\n",
              "            + ' to learn more about interactive tables.';\n",
              "          element.innerHTML = '';\n",
              "          dataTable['output_type'] = 'display_data';\n",
              "          await google.colab.output.renderOutput(dataTable, element);\n",
              "          const docLink = document.createElement('div');\n",
              "          docLink.innerHTML = docLinkHtml;\n",
              "          element.appendChild(docLink);\n",
              "        }\n",
              "      </script>\n",
              "    </div>\n",
              "  </div>\n",
              "  "
            ],
            "text/plain": [
              "    userid    poiid                  datetime temp humidity\n",
              "0    90083   341979 2010-02-25 19:05:06+00:00   37       87\n",
              "1     4426   166049 2011-04-10 02:43:25+00:00   43       66\n",
              "2   358925   870215 2011-01-09 15:17:00+00:00   36       94\n",
              "3    18220    96858 2010-03-18 00:32:31+00:00   54       83\n",
              "4  2128458  2435711 2011-04-11 19:51:07+00:00   80       20"
            ]
          },
          "metadata": {},
          "execution_count": 29
        }
      ],
      "source": [
        "df_weather.head()"
      ]
    },
    {
      "cell_type": "code",
      "execution_count": 30,
      "metadata": {
        "id": "ADglf3WA6MDj"
      },
      "outputs": [],
      "source": [
        "df_weather[\"temp\"] = pd.to_numeric(df_weather.temp, errors=\"coerce\")\n",
        "df_weather[\"humidity\"] = pd.to_numeric(df_weather.humidity, errors=\"coerce\")"
      ]
    },
    {
      "cell_type": "code",
      "execution_count": 31,
      "metadata": {
        "colab": {
          "base_uri": "https://localhost:8080/"
        },
        "id": "g7T1MNV3L2ip",
        "outputId": "11aa2eb2-b03d-413e-8d04-59c5afb56a89"
      },
      "outputs": [
        {
          "output_type": "execute_result",
          "data": {
            "text/plain": [
              "(2145801, 5)"
            ]
          },
          "metadata": {},
          "execution_count": 31
        }
      ],
      "source": [
        "df_weather = df_weather.dropna(axis=0)\n",
        "df_weather.shape"
      ]
    },
    {
      "cell_type": "code",
      "execution_count": 32,
      "metadata": {
        "colab": {
          "base_uri": "https://localhost:8080/"
        },
        "id": "zMwXfdeuLzS6",
        "outputId": "156e002e-2b57-4d5b-d62a-5854acce6943"
      },
      "outputs": [
        {
          "output_type": "execute_result",
          "data": {
            "text/plain": [
              "userid      0.0\n",
              "poiid       0.0\n",
              "datetime    0.0\n",
              "temp        0.0\n",
              "humidity    0.0\n",
              "dtype: float64"
            ]
          },
          "metadata": {},
          "execution_count": 32
        }
      ],
      "source": [
        "df_weather.isna().sum() * 100 / len(df_weather)"
      ]
    },
    {
      "cell_type": "markdown",
      "metadata": {
        "id": "JtwxeA5_8KY8"
      },
      "source": [
        "### Merging"
      ]
    },
    {
      "cell_type": "code",
      "execution_count": 33,
      "metadata": {
        "id": "wwWXyFxNlJ6Z"
      },
      "outputs": [],
      "source": [
        "# df = pd.merge(df_checkins, df_spots, on=\"poiid\")\n",
        "# df.shape"
      ]
    },
    {
      "cell_type": "code",
      "execution_count": 34,
      "metadata": {
        "colab": {
          "base_uri": "https://localhost:8080/"
        },
        "id": "nFiEK5d4BmXk",
        "outputId": "119561b5-232b-4d92-c352-1e9d9791cbbb"
      },
      "outputs": [
        {
          "output_type": "execute_result",
          "data": {
            "text/plain": [
              "(387935, 7)"
            ]
          },
          "metadata": {},
          "execution_count": 34
        }
      ],
      "source": [
        "df = pd.merge(df_checkins, df_weather, on=[\"userid\", \"poiid\", \"datetime\"])\n",
        "df = pd.merge(df, df_spots, on=\"poiid\")\n",
        "df.shape"
      ]
    },
    {
      "cell_type": "code",
      "execution_count": 35,
      "metadata": {
        "colab": {
          "base_uri": "https://localhost:8080/",
          "height": 206
        },
        "id": "5wbP3yQOiyjI",
        "outputId": "4881daa4-cd1b-4288-efff-142d29ae544e"
      },
      "outputs": [
        {
          "output_type": "execute_result",
          "data": {
            "text/html": [
              "\n",
              "  <div id=\"df-4594695a-883d-4518-bda5-885ef1de22cb\">\n",
              "    <div class=\"colab-df-container\">\n",
              "      <div>\n",
              "<style scoped>\n",
              "    .dataframe tbody tr th:only-of-type {\n",
              "        vertical-align: middle;\n",
              "    }\n",
              "\n",
              "    .dataframe tbody tr th {\n",
              "        vertical-align: top;\n",
              "    }\n",
              "\n",
              "    .dataframe thead th {\n",
              "        text-align: right;\n",
              "    }\n",
              "</style>\n",
              "<table border=\"1\" class=\"dataframe\">\n",
              "  <thead>\n",
              "    <tr style=\"text-align: right;\">\n",
              "      <th></th>\n",
              "      <th>userid</th>\n",
              "      <th>poiid</th>\n",
              "      <th>datetime</th>\n",
              "      <th>temp</th>\n",
              "      <th>humidity</th>\n",
              "      <th>lng</th>\n",
              "      <th>lat</th>\n",
              "    </tr>\n",
              "  </thead>\n",
              "  <tbody>\n",
              "    <tr>\n",
              "      <th>0</th>\n",
              "      <td>1338</td>\n",
              "      <td>365256</td>\n",
              "      <td>2011-06-09 23:29:30+00:00</td>\n",
              "      <td>63.0</td>\n",
              "      <td>52.0</td>\n",
              "      <td>-93.277574</td>\n",
              "      <td>44.981997</td>\n",
              "    </tr>\n",
              "    <tr>\n",
              "      <th>1</th>\n",
              "      <td>1338</td>\n",
              "      <td>365256</td>\n",
              "      <td>2011-04-24 17:13:13+00:00</td>\n",
              "      <td>54.0</td>\n",
              "      <td>45.0</td>\n",
              "      <td>-93.277574</td>\n",
              "      <td>44.981997</td>\n",
              "    </tr>\n",
              "    <tr>\n",
              "      <th>2</th>\n",
              "      <td>1338</td>\n",
              "      <td>365256</td>\n",
              "      <td>2010-10-07 21:08:35+00:00</td>\n",
              "      <td>72.0</td>\n",
              "      <td>31.0</td>\n",
              "      <td>-93.277574</td>\n",
              "      <td>44.981997</td>\n",
              "    </tr>\n",
              "    <tr>\n",
              "      <th>3</th>\n",
              "      <td>1338</td>\n",
              "      <td>365256</td>\n",
              "      <td>2010-09-21 23:56:36+00:00</td>\n",
              "      <td>68.0</td>\n",
              "      <td>52.0</td>\n",
              "      <td>-93.277574</td>\n",
              "      <td>44.981997</td>\n",
              "    </tr>\n",
              "    <tr>\n",
              "      <th>4</th>\n",
              "      <td>1338</td>\n",
              "      <td>365256</td>\n",
              "      <td>2010-08-21 19:28:46+00:00</td>\n",
              "      <td>77.0</td>\n",
              "      <td>71.0</td>\n",
              "      <td>-93.277574</td>\n",
              "      <td>44.981997</td>\n",
              "    </tr>\n",
              "  </tbody>\n",
              "</table>\n",
              "</div>\n",
              "      <button class=\"colab-df-convert\" onclick=\"convertToInteractive('df-4594695a-883d-4518-bda5-885ef1de22cb')\"\n",
              "              title=\"Convert this dataframe to an interactive table.\"\n",
              "              style=\"display:none;\">\n",
              "        \n",
              "  <svg xmlns=\"http://www.w3.org/2000/svg\" height=\"24px\"viewBox=\"0 0 24 24\"\n",
              "       width=\"24px\">\n",
              "    <path d=\"M0 0h24v24H0V0z\" fill=\"none\"/>\n",
              "    <path d=\"M18.56 5.44l.94 2.06.94-2.06 2.06-.94-2.06-.94-.94-2.06-.94 2.06-2.06.94zm-11 1L8.5 8.5l.94-2.06 2.06-.94-2.06-.94L8.5 2.5l-.94 2.06-2.06.94zm10 10l.94 2.06.94-2.06 2.06-.94-2.06-.94-.94-2.06-.94 2.06-2.06.94z\"/><path d=\"M17.41 7.96l-1.37-1.37c-.4-.4-.92-.59-1.43-.59-.52 0-1.04.2-1.43.59L10.3 9.45l-7.72 7.72c-.78.78-.78 2.05 0 2.83L4 21.41c.39.39.9.59 1.41.59.51 0 1.02-.2 1.41-.59l7.78-7.78 2.81-2.81c.8-.78.8-2.07 0-2.86zM5.41 20L4 18.59l7.72-7.72 1.47 1.35L5.41 20z\"/>\n",
              "  </svg>\n",
              "      </button>\n",
              "      \n",
              "  <style>\n",
              "    .colab-df-container {\n",
              "      display:flex;\n",
              "      flex-wrap:wrap;\n",
              "      gap: 12px;\n",
              "    }\n",
              "\n",
              "    .colab-df-convert {\n",
              "      background-color: #E8F0FE;\n",
              "      border: none;\n",
              "      border-radius: 50%;\n",
              "      cursor: pointer;\n",
              "      display: none;\n",
              "      fill: #1967D2;\n",
              "      height: 32px;\n",
              "      padding: 0 0 0 0;\n",
              "      width: 32px;\n",
              "    }\n",
              "\n",
              "    .colab-df-convert:hover {\n",
              "      background-color: #E2EBFA;\n",
              "      box-shadow: 0px 1px 2px rgba(60, 64, 67, 0.3), 0px 1px 3px 1px rgba(60, 64, 67, 0.15);\n",
              "      fill: #174EA6;\n",
              "    }\n",
              "\n",
              "    [theme=dark] .colab-df-convert {\n",
              "      background-color: #3B4455;\n",
              "      fill: #D2E3FC;\n",
              "    }\n",
              "\n",
              "    [theme=dark] .colab-df-convert:hover {\n",
              "      background-color: #434B5C;\n",
              "      box-shadow: 0px 1px 3px 1px rgba(0, 0, 0, 0.15);\n",
              "      filter: drop-shadow(0px 1px 2px rgba(0, 0, 0, 0.3));\n",
              "      fill: #FFFFFF;\n",
              "    }\n",
              "  </style>\n",
              "\n",
              "      <script>\n",
              "        const buttonEl =\n",
              "          document.querySelector('#df-4594695a-883d-4518-bda5-885ef1de22cb button.colab-df-convert');\n",
              "        buttonEl.style.display =\n",
              "          google.colab.kernel.accessAllowed ? 'block' : 'none';\n",
              "\n",
              "        async function convertToInteractive(key) {\n",
              "          const element = document.querySelector('#df-4594695a-883d-4518-bda5-885ef1de22cb');\n",
              "          const dataTable =\n",
              "            await google.colab.kernel.invokeFunction('convertToInteractive',\n",
              "                                                     [key], {});\n",
              "          if (!dataTable) return;\n",
              "\n",
              "          const docLinkHtml = 'Like what you see? Visit the ' +\n",
              "            '<a target=\"_blank\" href=https://colab.research.google.com/notebooks/data_table.ipynb>data table notebook</a>'\n",
              "            + ' to learn more about interactive tables.';\n",
              "          element.innerHTML = '';\n",
              "          dataTable['output_type'] = 'display_data';\n",
              "          await google.colab.output.renderOutput(dataTable, element);\n",
              "          const docLink = document.createElement('div');\n",
              "          docLink.innerHTML = docLinkHtml;\n",
              "          element.appendChild(docLink);\n",
              "        }\n",
              "      </script>\n",
              "    </div>\n",
              "  </div>\n",
              "  "
            ],
            "text/plain": [
              "   userid   poiid                  datetime  ...  humidity        lng        lat\n",
              "0    1338  365256 2011-06-09 23:29:30+00:00  ...      52.0 -93.277574  44.981997\n",
              "1    1338  365256 2011-04-24 17:13:13+00:00  ...      45.0 -93.277574  44.981997\n",
              "2    1338  365256 2010-10-07 21:08:35+00:00  ...      31.0 -93.277574  44.981997\n",
              "3    1338  365256 2010-09-21 23:56:36+00:00  ...      52.0 -93.277574  44.981997\n",
              "4    1338  365256 2010-08-21 19:28:46+00:00  ...      71.0 -93.277574  44.981997\n",
              "\n",
              "[5 rows x 7 columns]"
            ]
          },
          "metadata": {},
          "execution_count": 35
        }
      ],
      "source": [
        "df.head()"
      ]
    },
    {
      "cell_type": "code",
      "execution_count": 36,
      "metadata": {
        "colab": {
          "base_uri": "https://localhost:8080/"
        },
        "id": "wSgNPZ2znDRV",
        "outputId": "05fc8ee3-c3c2-47dd-cbe3-f3e822d8246a"
      },
      "outputs": [
        {
          "output_type": "execute_result",
          "data": {
            "text/plain": [
              "57518"
            ]
          },
          "metadata": {},
          "execution_count": 36
        }
      ],
      "source": [
        "len(df.poiid.unique())"
      ]
    },
    {
      "cell_type": "code",
      "execution_count": 37,
      "metadata": {
        "colab": {
          "base_uri": "https://localhost:8080/"
        },
        "id": "wiHfPzC_oowL",
        "outputId": "ebf6cc38-3fdb-4848-e060-ceae94f29654"
      },
      "outputs": [
        {
          "output_type": "execute_result",
          "data": {
            "text/plain": [
              "(387935, 7)"
            ]
          },
          "metadata": {},
          "execution_count": 37
        }
      ],
      "source": [
        "df.shape"
      ]
    },
    {
      "cell_type": "markdown",
      "metadata": {
        "id": "ckLXQs_R2MtP"
      },
      "source": [
        "## Preprocessing"
      ]
    },
    {
      "cell_type": "code",
      "execution_count": 38,
      "metadata": {
        "id": "ENaWngxhr2cF"
      },
      "outputs": [],
      "source": [
        "user_ids = df.userid.value_counts()[df.userid.value_counts() > Config.Preprocessing.FILTER_LEN_USER].index"
      ]
    },
    {
      "cell_type": "code",
      "execution_count": 39,
      "metadata": {
        "colab": {
          "base_uri": "https://localhost:8080/"
        },
        "id": "XKOU-WNgsK80",
        "outputId": "d786176b-585d-4b65-d7fc-c4d103ea7b20"
      },
      "outputs": [
        {
          "output_type": "execute_result",
          "data": {
            "text/plain": [
              "(341794, 7)"
            ]
          },
          "metadata": {},
          "execution_count": 39
        }
      ],
      "source": [
        "df = df[df.userid.isin(user_ids)]\n",
        "df.shape"
      ]
    },
    {
      "cell_type": "code",
      "execution_count": 40,
      "metadata": {
        "id": "VCRXn7AssUQ_"
      },
      "outputs": [],
      "source": [
        "# poi_ids = df.poiid.value_counts()[df.poiid.value_counts() > 10].index\n",
        "poi_ids = df.poiid.value_counts()[df.poiid.value_counts() > Config.Preprocessing.FILTER_LEN_POI].index"
      ]
    },
    {
      "cell_type": "code",
      "execution_count": 41,
      "metadata": {
        "colab": {
          "base_uri": "https://localhost:8080/"
        },
        "id": "EmeZ1seFsb11",
        "outputId": "ab2dce0a-6d56-4641-cd1c-469238aefdd1"
      },
      "outputs": [
        {
          "output_type": "execute_result",
          "data": {
            "text/plain": [
              "(35128, 7)"
            ]
          },
          "metadata": {},
          "execution_count": 41
        }
      ],
      "source": [
        "df = df[df.poiid.isin(poi_ids)]\n",
        "df.shape"
      ]
    },
    {
      "cell_type": "code",
      "execution_count": 42,
      "metadata": {
        "colab": {
          "base_uri": "https://localhost:8080/"
        },
        "id": "12P9oFT7qeVF",
        "outputId": "9caf3b10-50bd-423f-9f91-60600c54d6f2"
      },
      "outputs": [
        {
          "output_type": "execute_result",
          "data": {
            "text/plain": [
              "30603     2830\n",
              "55197     1402\n",
              "174566    1308\n",
              "11772      906\n",
              "86816      883\n",
              "          ... \n",
              "20197        1\n",
              "29936        1\n",
              "40179        1\n",
              "52398        1\n",
              "6619         1\n",
              "Name: userid, Length: 500, dtype: int64"
            ]
          },
          "metadata": {},
          "execution_count": 42
        }
      ],
      "source": [
        "df.userid.value_counts()"
      ]
    },
    {
      "cell_type": "code",
      "execution_count": 43,
      "metadata": {
        "colab": {
          "base_uri": "https://localhost:8080/"
        },
        "id": "QAMmZ2aMqGmI",
        "outputId": "4162fc93-acb6-4467-961c-4bacb8ee08b3"
      },
      "outputs": [
        {
          "output_type": "execute_result",
          "data": {
            "text/plain": [
              "332537     929\n",
              "1368547    671\n",
              "245559     602\n",
              "19542      554\n",
              "25678      544\n",
              "          ... \n",
              "1367974    203\n",
              "894681     202\n",
              "26767      202\n",
              "45015      202\n",
              "205107     201\n",
              "Name: poiid, Length: 115, dtype: int64"
            ]
          },
          "metadata": {},
          "execution_count": 43
        }
      ],
      "source": [
        "df.poiid.value_counts()"
      ]
    },
    {
      "cell_type": "code",
      "execution_count": 44,
      "metadata": {
        "colab": {
          "base_uri": "https://localhost:8080/"
        },
        "id": "QBJVsyLRbLgN",
        "outputId": "ffb8a77a-0a95-4541-eb2a-4167b6c64564"
      },
      "outputs": [
        {
          "output_type": "execute_result",
          "data": {
            "text/plain": [
              "(115, 500)"
            ]
          },
          "metadata": {},
          "execution_count": 44
        }
      ],
      "source": [
        "len(df.poiid.unique()), len(df.userid.unique())"
      ]
    },
    {
      "cell_type": "code",
      "execution_count": 45,
      "metadata": {
        "id": "kodc216ibRDU"
      },
      "outputs": [],
      "source": [
        "poiid_to_idx = {f\"{poiid}\": i for i, poiid in enumerate(df.poiid.unique())}"
      ]
    },
    {
      "cell_type": "code",
      "execution_count": 46,
      "metadata": {
        "id": "AlXplkvReEOh"
      },
      "outputs": [],
      "source": [
        "df[\"poiid\"] = df.poiid.apply(lambda id: poiid_to_idx[f\"{id}\"])"
      ]
    },
    {
      "cell_type": "code",
      "execution_count": 47,
      "metadata": {
        "colab": {
          "base_uri": "https://localhost:8080/",
          "height": 206
        },
        "id": "62Q7a5Jf-rwz",
        "outputId": "e5f63b9e-df5d-4504-9f0a-b372db9891f3"
      },
      "outputs": [
        {
          "output_type": "execute_result",
          "data": {
            "text/html": [
              "\n",
              "  <div id=\"df-52d9f875-9e35-428a-a6f0-98eedac060fd\">\n",
              "    <div class=\"colab-df-container\">\n",
              "      <div>\n",
              "<style scoped>\n",
              "    .dataframe tbody tr th:only-of-type {\n",
              "        vertical-align: middle;\n",
              "    }\n",
              "\n",
              "    .dataframe tbody tr th {\n",
              "        vertical-align: top;\n",
              "    }\n",
              "\n",
              "    .dataframe thead th {\n",
              "        text-align: right;\n",
              "    }\n",
              "</style>\n",
              "<table border=\"1\" class=\"dataframe\">\n",
              "  <thead>\n",
              "    <tr style=\"text-align: right;\">\n",
              "      <th></th>\n",
              "      <th>userid</th>\n",
              "      <th>poiid</th>\n",
              "      <th>datetime</th>\n",
              "      <th>temp</th>\n",
              "      <th>humidity</th>\n",
              "      <th>lng</th>\n",
              "      <th>lat</th>\n",
              "    </tr>\n",
              "  </thead>\n",
              "  <tbody>\n",
              "    <tr>\n",
              "      <th>9512</th>\n",
              "      <td>145</td>\n",
              "      <td>11</td>\n",
              "      <td>2009-03-13 18:25:09+00:00</td>\n",
              "      <td>41.0</td>\n",
              "      <td>89.0</td>\n",
              "      <td>-97.739568</td>\n",
              "      <td>30.263608</td>\n",
              "    </tr>\n",
              "    <tr>\n",
              "      <th>9583</th>\n",
              "      <td>40</td>\n",
              "      <td>11</td>\n",
              "      <td>2009-03-13 19:31:17+00:00</td>\n",
              "      <td>41.0</td>\n",
              "      <td>87.0</td>\n",
              "      <td>-97.739568</td>\n",
              "      <td>30.263608</td>\n",
              "    </tr>\n",
              "    <tr>\n",
              "      <th>9974</th>\n",
              "      <td>40</td>\n",
              "      <td>12</td>\n",
              "      <td>2009-03-14 14:24:13+00:00</td>\n",
              "      <td>42.0</td>\n",
              "      <td>85.0</td>\n",
              "      <td>-97.738549</td>\n",
              "      <td>30.265294</td>\n",
              "    </tr>\n",
              "    <tr>\n",
              "      <th>9931</th>\n",
              "      <td>330</td>\n",
              "      <td>12</td>\n",
              "      <td>2009-03-15 02:12:14+00:00</td>\n",
              "      <td>48.0</td>\n",
              "      <td>86.0</td>\n",
              "      <td>-97.738549</td>\n",
              "      <td>30.265294</td>\n",
              "    </tr>\n",
              "    <tr>\n",
              "      <th>50254</th>\n",
              "      <td>40</td>\n",
              "      <td>27</td>\n",
              "      <td>2009-03-15 20:06:11+00:00</td>\n",
              "      <td>55.0</td>\n",
              "      <td>69.0</td>\n",
              "      <td>-97.753703</td>\n",
              "      <td>30.270734</td>\n",
              "    </tr>\n",
              "  </tbody>\n",
              "</table>\n",
              "</div>\n",
              "      <button class=\"colab-df-convert\" onclick=\"convertToInteractive('df-52d9f875-9e35-428a-a6f0-98eedac060fd')\"\n",
              "              title=\"Convert this dataframe to an interactive table.\"\n",
              "              style=\"display:none;\">\n",
              "        \n",
              "  <svg xmlns=\"http://www.w3.org/2000/svg\" height=\"24px\"viewBox=\"0 0 24 24\"\n",
              "       width=\"24px\">\n",
              "    <path d=\"M0 0h24v24H0V0z\" fill=\"none\"/>\n",
              "    <path d=\"M18.56 5.44l.94 2.06.94-2.06 2.06-.94-2.06-.94-.94-2.06-.94 2.06-2.06.94zm-11 1L8.5 8.5l.94-2.06 2.06-.94-2.06-.94L8.5 2.5l-.94 2.06-2.06.94zm10 10l.94 2.06.94-2.06 2.06-.94-2.06-.94-.94-2.06-.94 2.06-2.06.94z\"/><path d=\"M17.41 7.96l-1.37-1.37c-.4-.4-.92-.59-1.43-.59-.52 0-1.04.2-1.43.59L10.3 9.45l-7.72 7.72c-.78.78-.78 2.05 0 2.83L4 21.41c.39.39.9.59 1.41.59.51 0 1.02-.2 1.41-.59l7.78-7.78 2.81-2.81c.8-.78.8-2.07 0-2.86zM5.41 20L4 18.59l7.72-7.72 1.47 1.35L5.41 20z\"/>\n",
              "  </svg>\n",
              "      </button>\n",
              "      \n",
              "  <style>\n",
              "    .colab-df-container {\n",
              "      display:flex;\n",
              "      flex-wrap:wrap;\n",
              "      gap: 12px;\n",
              "    }\n",
              "\n",
              "    .colab-df-convert {\n",
              "      background-color: #E8F0FE;\n",
              "      border: none;\n",
              "      border-radius: 50%;\n",
              "      cursor: pointer;\n",
              "      display: none;\n",
              "      fill: #1967D2;\n",
              "      height: 32px;\n",
              "      padding: 0 0 0 0;\n",
              "      width: 32px;\n",
              "    }\n",
              "\n",
              "    .colab-df-convert:hover {\n",
              "      background-color: #E2EBFA;\n",
              "      box-shadow: 0px 1px 2px rgba(60, 64, 67, 0.3), 0px 1px 3px 1px rgba(60, 64, 67, 0.15);\n",
              "      fill: #174EA6;\n",
              "    }\n",
              "\n",
              "    [theme=dark] .colab-df-convert {\n",
              "      background-color: #3B4455;\n",
              "      fill: #D2E3FC;\n",
              "    }\n",
              "\n",
              "    [theme=dark] .colab-df-convert:hover {\n",
              "      background-color: #434B5C;\n",
              "      box-shadow: 0px 1px 3px 1px rgba(0, 0, 0, 0.15);\n",
              "      filter: drop-shadow(0px 1px 2px rgba(0, 0, 0, 0.3));\n",
              "      fill: #FFFFFF;\n",
              "    }\n",
              "  </style>\n",
              "\n",
              "      <script>\n",
              "        const buttonEl =\n",
              "          document.querySelector('#df-52d9f875-9e35-428a-a6f0-98eedac060fd button.colab-df-convert');\n",
              "        buttonEl.style.display =\n",
              "          google.colab.kernel.accessAllowed ? 'block' : 'none';\n",
              "\n",
              "        async function convertToInteractive(key) {\n",
              "          const element = document.querySelector('#df-52d9f875-9e35-428a-a6f0-98eedac060fd');\n",
              "          const dataTable =\n",
              "            await google.colab.kernel.invokeFunction('convertToInteractive',\n",
              "                                                     [key], {});\n",
              "          if (!dataTable) return;\n",
              "\n",
              "          const docLinkHtml = 'Like what you see? Visit the ' +\n",
              "            '<a target=\"_blank\" href=https://colab.research.google.com/notebooks/data_table.ipynb>data table notebook</a>'\n",
              "            + ' to learn more about interactive tables.';\n",
              "          element.innerHTML = '';\n",
              "          dataTable['output_type'] = 'display_data';\n",
              "          await google.colab.output.renderOutput(dataTable, element);\n",
              "          const docLink = document.createElement('div');\n",
              "          docLink.innerHTML = docLinkHtml;\n",
              "          element.appendChild(docLink);\n",
              "        }\n",
              "      </script>\n",
              "    </div>\n",
              "  </div>\n",
              "  "
            ],
            "text/plain": [
              "       userid  poiid                  datetime  ...  humidity        lng        lat\n",
              "9512      145     11 2009-03-13 18:25:09+00:00  ...      89.0 -97.739568  30.263608\n",
              "9583       40     11 2009-03-13 19:31:17+00:00  ...      87.0 -97.739568  30.263608\n",
              "9974       40     12 2009-03-14 14:24:13+00:00  ...      85.0 -97.738549  30.265294\n",
              "9931      330     12 2009-03-15 02:12:14+00:00  ...      86.0 -97.738549  30.265294\n",
              "50254      40     27 2009-03-15 20:06:11+00:00  ...      69.0 -97.753703  30.270734\n",
              "\n",
              "[5 rows x 7 columns]"
            ]
          },
          "metadata": {},
          "execution_count": 47
        }
      ],
      "source": [
        "df = df.sort_values(by=\"datetime\")\n",
        "df.head()"
      ]
    },
    {
      "cell_type": "code",
      "execution_count": 48,
      "metadata": {
        "colab": {
          "base_uri": "https://localhost:8080/",
          "height": 49,
          "referenced_widgets": [
            "b183fd6db04b47d280efa3d37ba41ead",
            "a824fc75ba8846668e62343cf98db702",
            "a366d3d35b5a4b3eaeb0eddf9f3fcbab",
            "270be443b5de4a32b31a616b6fe214c4",
            "3533a835f30f4945aae9aa6dcd122b89",
            "89a06a1f03e6485c8d33deef8de3110c",
            "21ae03eaf70a4785b2ab0bd83dab4d52",
            "fd65ddcfbb904470a5d2cc982c658a2c",
            "7ed5b4e410af44ccbf65a5226683ede0",
            "45aa69c6034a4e669a7f7dbdd8f761a3",
            "8bc342211d234cbd87c26269318e2f8e"
          ]
        },
        "id": "EDB770RC-Q-2",
        "outputId": "16fefd2f-52e1-4a2c-d0f5-7c253a54a01a"
      },
      "outputs": [
        {
          "output_type": "display_data",
          "data": {
            "application/vnd.jupyter.widget-view+json": {
              "model_id": "b183fd6db04b47d280efa3d37ba41ead",
              "version_minor": 0,
              "version_major": 2
            },
            "text/plain": [
              "  0%|          | 0/500 [00:00<?, ?it/s]"
            ]
          },
          "metadata": {}
        }
      ],
      "source": [
        "rows = []\n",
        "\n",
        "for user_id, group in tqdm(df.groupby(\"userid\")):\n",
        "\n",
        "  merged_group = pd.concat([group, group.shift(-1).add_prefix('next_')], axis=1)\n",
        "\n",
        "  for _, row in merged_group.iterrows():\n",
        "    distance = 0 if row.isnull().values.any() else geodesic((row.lat, row.lng), (row.next_lat, row.next_lng)).meters\n",
        "    time_delta = 0 if row.isnull().values.any() else (row.next_datetime - row.datetime).total_seconds()\n",
        "\n",
        "    row_data = dict(\n",
        "        user_id=row.userid,\n",
        "        poi_id=row.poiid,\n",
        "        day_of_month=row.datetime.day,\n",
        "        day_of_week=row.datetime.dayofweek,\n",
        "        week_of_year=row.datetime.week,\n",
        "        month=row.datetime.month,\n",
        "        lng=row.lng,\n",
        "        lat=row.lat,\n",
        "        temp=row.temp,\n",
        "        humidity=row.humidity,\n",
        "        distance=distance,\n",
        "        time_delta=time_delta\n",
        "    )\n",
        "\n",
        "    rows.append(row_data)\n",
        "    \n",
        "df = pd.DataFrame(rows)"
      ]
    },
    {
      "cell_type": "code",
      "execution_count": 49,
      "metadata": {
        "colab": {
          "base_uri": "https://localhost:8080/",
          "height": 206
        },
        "id": "1uRsmNwQDZfH",
        "outputId": "6a9599e9-32f7-4d89-fbc3-cd1d7bd1798c"
      },
      "outputs": [
        {
          "output_type": "execute_result",
          "data": {
            "text/html": [
              "\n",
              "  <div id=\"df-67253623-6a1d-4484-b69f-374436bada0b\">\n",
              "    <div class=\"colab-df-container\">\n",
              "      <div>\n",
              "<style scoped>\n",
              "    .dataframe tbody tr th:only-of-type {\n",
              "        vertical-align: middle;\n",
              "    }\n",
              "\n",
              "    .dataframe tbody tr th {\n",
              "        vertical-align: top;\n",
              "    }\n",
              "\n",
              "    .dataframe thead th {\n",
              "        text-align: right;\n",
              "    }\n",
              "</style>\n",
              "<table border=\"1\" class=\"dataframe\">\n",
              "  <thead>\n",
              "    <tr style=\"text-align: right;\">\n",
              "      <th></th>\n",
              "      <th>user_id</th>\n",
              "      <th>poi_id</th>\n",
              "      <th>day_of_month</th>\n",
              "      <th>day_of_week</th>\n",
              "      <th>week_of_year</th>\n",
              "      <th>month</th>\n",
              "      <th>lng</th>\n",
              "      <th>lat</th>\n",
              "      <th>temp</th>\n",
              "      <th>humidity</th>\n",
              "      <th>distance</th>\n",
              "      <th>time_delta</th>\n",
              "    </tr>\n",
              "  </thead>\n",
              "  <tbody>\n",
              "    <tr>\n",
              "      <th>0</th>\n",
              "      <td>40</td>\n",
              "      <td>11</td>\n",
              "      <td>13</td>\n",
              "      <td>4</td>\n",
              "      <td>11</td>\n",
              "      <td>3</td>\n",
              "      <td>-97.739568</td>\n",
              "      <td>30.263608</td>\n",
              "      <td>41.0</td>\n",
              "      <td>87.0</td>\n",
              "      <td>211.127296</td>\n",
              "      <td>67976.0</td>\n",
              "    </tr>\n",
              "    <tr>\n",
              "      <th>1</th>\n",
              "      <td>40</td>\n",
              "      <td>12</td>\n",
              "      <td>14</td>\n",
              "      <td>5</td>\n",
              "      <td>11</td>\n",
              "      <td>3</td>\n",
              "      <td>-97.738549</td>\n",
              "      <td>30.265294</td>\n",
              "      <td>42.0</td>\n",
              "      <td>85.0</td>\n",
              "      <td>1578.003345</td>\n",
              "      <td>106918.0</td>\n",
              "    </tr>\n",
              "    <tr>\n",
              "      <th>2</th>\n",
              "      <td>40</td>\n",
              "      <td>27</td>\n",
              "      <td>15</td>\n",
              "      <td>6</td>\n",
              "      <td>11</td>\n",
              "      <td>3</td>\n",
              "      <td>-97.753703</td>\n",
              "      <td>30.270734</td>\n",
              "      <td>55.0</td>\n",
              "      <td>69.0</td>\n",
              "      <td>0.000000</td>\n",
              "      <td>1810676.0</td>\n",
              "    </tr>\n",
              "    <tr>\n",
              "      <th>3</th>\n",
              "      <td>40</td>\n",
              "      <td>27</td>\n",
              "      <td>5</td>\n",
              "      <td>6</td>\n",
              "      <td>14</td>\n",
              "      <td>4</td>\n",
              "      <td>-97.753703</td>\n",
              "      <td>30.270734</td>\n",
              "      <td>65.0</td>\n",
              "      <td>24.0</td>\n",
              "      <td>0.000000</td>\n",
              "      <td>2.0</td>\n",
              "    </tr>\n",
              "    <tr>\n",
              "      <th>4</th>\n",
              "      <td>40</td>\n",
              "      <td>27</td>\n",
              "      <td>5</td>\n",
              "      <td>6</td>\n",
              "      <td>14</td>\n",
              "      <td>4</td>\n",
              "      <td>-97.753703</td>\n",
              "      <td>30.270734</td>\n",
              "      <td>65.0</td>\n",
              "      <td>24.0</td>\n",
              "      <td>0.000000</td>\n",
              "      <td>5546551.0</td>\n",
              "    </tr>\n",
              "  </tbody>\n",
              "</table>\n",
              "</div>\n",
              "      <button class=\"colab-df-convert\" onclick=\"convertToInteractive('df-67253623-6a1d-4484-b69f-374436bada0b')\"\n",
              "              title=\"Convert this dataframe to an interactive table.\"\n",
              "              style=\"display:none;\">\n",
              "        \n",
              "  <svg xmlns=\"http://www.w3.org/2000/svg\" height=\"24px\"viewBox=\"0 0 24 24\"\n",
              "       width=\"24px\">\n",
              "    <path d=\"M0 0h24v24H0V0z\" fill=\"none\"/>\n",
              "    <path d=\"M18.56 5.44l.94 2.06.94-2.06 2.06-.94-2.06-.94-.94-2.06-.94 2.06-2.06.94zm-11 1L8.5 8.5l.94-2.06 2.06-.94-2.06-.94L8.5 2.5l-.94 2.06-2.06.94zm10 10l.94 2.06.94-2.06 2.06-.94-2.06-.94-.94-2.06-.94 2.06-2.06.94z\"/><path d=\"M17.41 7.96l-1.37-1.37c-.4-.4-.92-.59-1.43-.59-.52 0-1.04.2-1.43.59L10.3 9.45l-7.72 7.72c-.78.78-.78 2.05 0 2.83L4 21.41c.39.39.9.59 1.41.59.51 0 1.02-.2 1.41-.59l7.78-7.78 2.81-2.81c.8-.78.8-2.07 0-2.86zM5.41 20L4 18.59l7.72-7.72 1.47 1.35L5.41 20z\"/>\n",
              "  </svg>\n",
              "      </button>\n",
              "      \n",
              "  <style>\n",
              "    .colab-df-container {\n",
              "      display:flex;\n",
              "      flex-wrap:wrap;\n",
              "      gap: 12px;\n",
              "    }\n",
              "\n",
              "    .colab-df-convert {\n",
              "      background-color: #E8F0FE;\n",
              "      border: none;\n",
              "      border-radius: 50%;\n",
              "      cursor: pointer;\n",
              "      display: none;\n",
              "      fill: #1967D2;\n",
              "      height: 32px;\n",
              "      padding: 0 0 0 0;\n",
              "      width: 32px;\n",
              "    }\n",
              "\n",
              "    .colab-df-convert:hover {\n",
              "      background-color: #E2EBFA;\n",
              "      box-shadow: 0px 1px 2px rgba(60, 64, 67, 0.3), 0px 1px 3px 1px rgba(60, 64, 67, 0.15);\n",
              "      fill: #174EA6;\n",
              "    }\n",
              "\n",
              "    [theme=dark] .colab-df-convert {\n",
              "      background-color: #3B4455;\n",
              "      fill: #D2E3FC;\n",
              "    }\n",
              "\n",
              "    [theme=dark] .colab-df-convert:hover {\n",
              "      background-color: #434B5C;\n",
              "      box-shadow: 0px 1px 3px 1px rgba(0, 0, 0, 0.15);\n",
              "      filter: drop-shadow(0px 1px 2px rgba(0, 0, 0, 0.3));\n",
              "      fill: #FFFFFF;\n",
              "    }\n",
              "  </style>\n",
              "\n",
              "      <script>\n",
              "        const buttonEl =\n",
              "          document.querySelector('#df-67253623-6a1d-4484-b69f-374436bada0b button.colab-df-convert');\n",
              "        buttonEl.style.display =\n",
              "          google.colab.kernel.accessAllowed ? 'block' : 'none';\n",
              "\n",
              "        async function convertToInteractive(key) {\n",
              "          const element = document.querySelector('#df-67253623-6a1d-4484-b69f-374436bada0b');\n",
              "          const dataTable =\n",
              "            await google.colab.kernel.invokeFunction('convertToInteractive',\n",
              "                                                     [key], {});\n",
              "          if (!dataTable) return;\n",
              "\n",
              "          const docLinkHtml = 'Like what you see? Visit the ' +\n",
              "            '<a target=\"_blank\" href=https://colab.research.google.com/notebooks/data_table.ipynb>data table notebook</a>'\n",
              "            + ' to learn more about interactive tables.';\n",
              "          element.innerHTML = '';\n",
              "          dataTable['output_type'] = 'display_data';\n",
              "          await google.colab.output.renderOutput(dataTable, element);\n",
              "          const docLink = document.createElement('div');\n",
              "          docLink.innerHTML = docLinkHtml;\n",
              "          element.appendChild(docLink);\n",
              "        }\n",
              "      </script>\n",
              "    </div>\n",
              "  </div>\n",
              "  "
            ],
            "text/plain": [
              "   user_id  poi_id  day_of_month  ...  humidity     distance  time_delta\n",
              "0       40      11            13  ...      87.0   211.127296     67976.0\n",
              "1       40      12            14  ...      85.0  1578.003345    106918.0\n",
              "2       40      27            15  ...      69.0     0.000000   1810676.0\n",
              "3       40      27             5  ...      24.0     0.000000         2.0\n",
              "4       40      27             5  ...      24.0     0.000000   5546551.0\n",
              "\n",
              "[5 rows x 12 columns]"
            ]
          },
          "metadata": {},
          "execution_count": 49
        }
      ],
      "source": [
        "df.head()"
      ]
    },
    {
      "cell_type": "code",
      "execution_count": 55,
      "metadata": {
        "id": "TIgh6t4O-WOm"
      },
      "outputs": [],
      "source": [
        "FEATURES = [\n",
        "\"day_of_month\",\t\"day_of_week\",\"week_of_year\",\t\"month\", \"lng\",\t\"lat\", \"temp\", \"humidity\", \"distance\",\"time_delta\"]"
      ]
    },
    {
      "cell_type": "code",
      "execution_count": 50,
      "metadata": {
        "id": "dhabQuVu-qsR"
      },
      "outputs": [],
      "source": [
        "from sklearn.preprocessing import MinMaxScaler\n",
        "\n",
        "scaler = MinMaxScaler(feature_range=(-1, 1))"
      ]
    },
    {
      "cell_type": "code",
      "execution_count": 51,
      "metadata": {
        "id": "x0tWf95W-rxk"
      },
      "outputs": [],
      "source": [
        "df[Config.Preprocessing.FEATURES] = scaler.fit_transform(df[Config.Preprocessing.FEATURES])"
      ]
    },
    {
      "cell_type": "code",
      "execution_count": 52,
      "metadata": {
        "colab": {
          "base_uri": "https://localhost:8080/",
          "height": 206
        },
        "id": "1h2LrS4g-5ku",
        "outputId": "979df4d2-a8ca-4aa6-b96d-6114aca7f16c"
      },
      "outputs": [
        {
          "output_type": "execute_result",
          "data": {
            "text/html": [
              "\n",
              "  <div id=\"df-8d61d61b-2827-48e6-9f27-f65882bdbfd8\">\n",
              "    <div class=\"colab-df-container\">\n",
              "      <div>\n",
              "<style scoped>\n",
              "    .dataframe tbody tr th:only-of-type {\n",
              "        vertical-align: middle;\n",
              "    }\n",
              "\n",
              "    .dataframe tbody tr th {\n",
              "        vertical-align: top;\n",
              "    }\n",
              "\n",
              "    .dataframe thead th {\n",
              "        text-align: right;\n",
              "    }\n",
              "</style>\n",
              "<table border=\"1\" class=\"dataframe\">\n",
              "  <thead>\n",
              "    <tr style=\"text-align: right;\">\n",
              "      <th></th>\n",
              "      <th>user_id</th>\n",
              "      <th>poi_id</th>\n",
              "      <th>day_of_month</th>\n",
              "      <th>day_of_week</th>\n",
              "      <th>week_of_year</th>\n",
              "      <th>month</th>\n",
              "      <th>lng</th>\n",
              "      <th>lat</th>\n",
              "      <th>temp</th>\n",
              "      <th>humidity</th>\n",
              "      <th>distance</th>\n",
              "      <th>time_delta</th>\n",
              "    </tr>\n",
              "  </thead>\n",
              "  <tbody>\n",
              "    <tr>\n",
              "      <th>0</th>\n",
              "      <td>40</td>\n",
              "      <td>11</td>\n",
              "      <td>-0.200000</td>\n",
              "      <td>0.333333</td>\n",
              "      <td>-0.615385</td>\n",
              "      <td>-0.636364</td>\n",
              "      <td>-0.810445</td>\n",
              "      <td>-0.281312</td>\n",
              "      <td>-0.156250</td>\n",
              "      <td>0.731959</td>\n",
              "      <td>-0.999968</td>\n",
              "      <td>-0.996709</td>\n",
              "    </tr>\n",
              "    <tr>\n",
              "      <th>1</th>\n",
              "      <td>40</td>\n",
              "      <td>12</td>\n",
              "      <td>-0.133333</td>\n",
              "      <td>0.666667</td>\n",
              "      <td>-0.615385</td>\n",
              "      <td>-0.636364</td>\n",
              "      <td>-0.810437</td>\n",
              "      <td>-0.281240</td>\n",
              "      <td>-0.140625</td>\n",
              "      <td>0.690722</td>\n",
              "      <td>-0.999763</td>\n",
              "      <td>-0.994824</td>\n",
              "    </tr>\n",
              "    <tr>\n",
              "      <th>2</th>\n",
              "      <td>40</td>\n",
              "      <td>27</td>\n",
              "      <td>-0.066667</td>\n",
              "      <td>1.000000</td>\n",
              "      <td>-0.615385</td>\n",
              "      <td>-0.636364</td>\n",
              "      <td>-0.810550</td>\n",
              "      <td>-0.281007</td>\n",
              "      <td>0.062500</td>\n",
              "      <td>0.360825</td>\n",
              "      <td>-1.000000</td>\n",
              "      <td>-0.912345</td>\n",
              "    </tr>\n",
              "    <tr>\n",
              "      <th>3</th>\n",
              "      <td>40</td>\n",
              "      <td>27</td>\n",
              "      <td>-0.733333</td>\n",
              "      <td>1.000000</td>\n",
              "      <td>-0.500000</td>\n",
              "      <td>-0.454545</td>\n",
              "      <td>-0.810550</td>\n",
              "      <td>-0.281007</td>\n",
              "      <td>0.218750</td>\n",
              "      <td>-0.567010</td>\n",
              "      <td>-1.000000</td>\n",
              "      <td>-1.000000</td>\n",
              "    </tr>\n",
              "    <tr>\n",
              "      <th>4</th>\n",
              "      <td>40</td>\n",
              "      <td>27</td>\n",
              "      <td>-0.733333</td>\n",
              "      <td>1.000000</td>\n",
              "      <td>-0.500000</td>\n",
              "      <td>-0.454545</td>\n",
              "      <td>-0.810550</td>\n",
              "      <td>-0.281007</td>\n",
              "      <td>0.218750</td>\n",
              "      <td>-0.567010</td>\n",
              "      <td>-1.000000</td>\n",
              "      <td>-0.731492</td>\n",
              "    </tr>\n",
              "  </tbody>\n",
              "</table>\n",
              "</div>\n",
              "      <button class=\"colab-df-convert\" onclick=\"convertToInteractive('df-8d61d61b-2827-48e6-9f27-f65882bdbfd8')\"\n",
              "              title=\"Convert this dataframe to an interactive table.\"\n",
              "              style=\"display:none;\">\n",
              "        \n",
              "  <svg xmlns=\"http://www.w3.org/2000/svg\" height=\"24px\"viewBox=\"0 0 24 24\"\n",
              "       width=\"24px\">\n",
              "    <path d=\"M0 0h24v24H0V0z\" fill=\"none\"/>\n",
              "    <path d=\"M18.56 5.44l.94 2.06.94-2.06 2.06-.94-2.06-.94-.94-2.06-.94 2.06-2.06.94zm-11 1L8.5 8.5l.94-2.06 2.06-.94-2.06-.94L8.5 2.5l-.94 2.06-2.06.94zm10 10l.94 2.06.94-2.06 2.06-.94-2.06-.94-.94-2.06-.94 2.06-2.06.94z\"/><path d=\"M17.41 7.96l-1.37-1.37c-.4-.4-.92-.59-1.43-.59-.52 0-1.04.2-1.43.59L10.3 9.45l-7.72 7.72c-.78.78-.78 2.05 0 2.83L4 21.41c.39.39.9.59 1.41.59.51 0 1.02-.2 1.41-.59l7.78-7.78 2.81-2.81c.8-.78.8-2.07 0-2.86zM5.41 20L4 18.59l7.72-7.72 1.47 1.35L5.41 20z\"/>\n",
              "  </svg>\n",
              "      </button>\n",
              "      \n",
              "  <style>\n",
              "    .colab-df-container {\n",
              "      display:flex;\n",
              "      flex-wrap:wrap;\n",
              "      gap: 12px;\n",
              "    }\n",
              "\n",
              "    .colab-df-convert {\n",
              "      background-color: #E8F0FE;\n",
              "      border: none;\n",
              "      border-radius: 50%;\n",
              "      cursor: pointer;\n",
              "      display: none;\n",
              "      fill: #1967D2;\n",
              "      height: 32px;\n",
              "      padding: 0 0 0 0;\n",
              "      width: 32px;\n",
              "    }\n",
              "\n",
              "    .colab-df-convert:hover {\n",
              "      background-color: #E2EBFA;\n",
              "      box-shadow: 0px 1px 2px rgba(60, 64, 67, 0.3), 0px 1px 3px 1px rgba(60, 64, 67, 0.15);\n",
              "      fill: #174EA6;\n",
              "    }\n",
              "\n",
              "    [theme=dark] .colab-df-convert {\n",
              "      background-color: #3B4455;\n",
              "      fill: #D2E3FC;\n",
              "    }\n",
              "\n",
              "    [theme=dark] .colab-df-convert:hover {\n",
              "      background-color: #434B5C;\n",
              "      box-shadow: 0px 1px 3px 1px rgba(0, 0, 0, 0.15);\n",
              "      filter: drop-shadow(0px 1px 2px rgba(0, 0, 0, 0.3));\n",
              "      fill: #FFFFFF;\n",
              "    }\n",
              "  </style>\n",
              "\n",
              "      <script>\n",
              "        const buttonEl =\n",
              "          document.querySelector('#df-8d61d61b-2827-48e6-9f27-f65882bdbfd8 button.colab-df-convert');\n",
              "        buttonEl.style.display =\n",
              "          google.colab.kernel.accessAllowed ? 'block' : 'none';\n",
              "\n",
              "        async function convertToInteractive(key) {\n",
              "          const element = document.querySelector('#df-8d61d61b-2827-48e6-9f27-f65882bdbfd8');\n",
              "          const dataTable =\n",
              "            await google.colab.kernel.invokeFunction('convertToInteractive',\n",
              "                                                     [key], {});\n",
              "          if (!dataTable) return;\n",
              "\n",
              "          const docLinkHtml = 'Like what you see? Visit the ' +\n",
              "            '<a target=\"_blank\" href=https://colab.research.google.com/notebooks/data_table.ipynb>data table notebook</a>'\n",
              "            + ' to learn more about interactive tables.';\n",
              "          element.innerHTML = '';\n",
              "          dataTable['output_type'] = 'display_data';\n",
              "          await google.colab.output.renderOutput(dataTable, element);\n",
              "          const docLink = document.createElement('div');\n",
              "          docLink.innerHTML = docLinkHtml;\n",
              "          element.appendChild(docLink);\n",
              "        }\n",
              "      </script>\n",
              "    </div>\n",
              "  </div>\n",
              "  "
            ],
            "text/plain": [
              "   user_id  poi_id  day_of_month  ...  humidity  distance  time_delta\n",
              "0       40      11     -0.200000  ...  0.731959 -0.999968   -0.996709\n",
              "1       40      12     -0.133333  ...  0.690722 -0.999763   -0.994824\n",
              "2       40      27     -0.066667  ...  0.360825 -1.000000   -0.912345\n",
              "3       40      27     -0.733333  ... -0.567010 -1.000000   -1.000000\n",
              "4       40      27     -0.733333  ... -0.567010 -1.000000   -0.731492\n",
              "\n",
              "[5 rows x 12 columns]"
            ]
          },
          "metadata": {},
          "execution_count": 52
        }
      ],
      "source": [
        "df.head()"
      ]
    },
    {
      "cell_type": "markdown",
      "metadata": {
        "id": "v_A6Mma68XZS"
      },
      "source": [
        "### Converting to sequences"
      ]
    },
    {
      "cell_type": "code",
      "execution_count": 56,
      "metadata": {
        "id": "qE-BdPQVICy4"
      },
      "outputs": [],
      "source": [
        "def create_sequences(input_data, sequence_length):\n",
        "  train_sequences = []\n",
        "  test_sequences = []\n",
        "  for _, group in input_data.groupby(\"user_id\"):\n",
        "    group_length = len(group)\n",
        "    train_len = int(Config.Preprocessing.TRAIN_SEQUENCE_RATIO * group_length)\n",
        "    for i in range(group_length-sequence_length):\n",
        "      label_position = i+sequence_length\n",
        "      seq = group[i: i+sequence_length]\n",
        "      seq_features = seq[FEATURES]\n",
        "      seq_poi = seq.poi_id\n",
        "\n",
        "  return train_sequences, test_sequences"
      ]
    },
    {
      "cell_type": "code",
      "execution_count": 57,
      "metadata": {
        "id": "IPUUDrvt4CbR"
      },
      "outputs": [],
      "source": [
        "train_sequences, test_sequences = create_sequences(df, Config.Preprocessing.SEQUENCE_LENGTH)"
      ]
    },
    {
      "cell_type": "code",
      "execution_count": 58,
      "metadata": {
        "colab": {
          "base_uri": "https://localhost:8080/"
        },
        "id": "PQSDPhC5NVrl",
        "outputId": "9bd0999d-cd4d-495b-fb1e-d905ec937e33"
      },
      "outputs": [
        {
          "output_type": "execute_result",
          "data": {
            "text/plain": [
              "(20666, 3064)"
            ]
          },
          "metadata": {},
          "execution_count": 58
        }
      ],
      "source": [
        "len(train_sequences), len(test_sequences)"
      ]
    },
    {
      "cell_type": "markdown",
      "metadata": {
        "id": "mkV0AWUM8aZC"
      },
      "source": [
        "## Dataset"
      ]
    },
    {
      "cell_type": "code",
      "execution_count": 59,
      "metadata": {
        "id": "UOx9fmFUOImN"
      },
      "outputs": [],
      "source": [
        "class POIDataset(Dataset):\n",
        "\n",
        "  def __init__(self, sequences):\n",
        "    self.sequences = sequences\n",
        "\n",
        "  def __len__(self):\n",
        "    return len(self.sequences)\n"
      ]
    },
    {
      "cell_type": "code",
      "execution_count": 60,
      "metadata": {
        "id": "_ul8rviyRvdk"
      },
      "outputs": [],
      "source": [
        "train_dataset = POIDataset(train_sequences)\n",
        "test_dataset = POIDataset(test_sequences)"
      ]
    },
    {
      "cell_type": "code",
      "execution_count": 61,
      "metadata": {
        "colab": {
          "base_uri": "https://localhost:8080/"
        },
        "id": "il0YopvURyzB",
        "outputId": "2ac10831-41a1-4375-edac-e4ed4990b966"
      },
      "outputs": [
        {
          "output_type": "stream",
          "name": "stdout",
          "text": [
            "torch.Size([60, 10])\n",
            "torch.Size([60])\n",
            "tensor(30)\n"
          ]
        }
      ],
      "source": [
        "for item in train_dataset:\n",
        "  print(item[\"sequence\"].shape)\n",
        "  print(item[\"prev_pois\"].shape)\n",
        "  print(item[\"label\"])\n",
        "  break"
      ]
    },
    {
      "cell_type": "code",
      "execution_count": 62,
      "metadata": {
        "colab": {
          "base_uri": "https://localhost:8080/"
        },
        "id": "kguZ8WzEn75n",
        "outputId": "f4bf2481-f67c-4d1f-851a-bfb0b23d2d3e"
      },
      "outputs": [
        {
          "output_type": "stream",
          "name": "stdout",
          "text": [
            "torch.Size([60, 10])\n",
            "torch.Size([60])\n",
            "tensor(12)\n"
          ]
        }
      ],
      "source": [
        "for item in test_dataset:\n",
        "  print(item[\"sequence\"].shape)\n",
        "  print(item[\"prev_pois\"].shape)\n",
        "  print(item[\"label\"])\n",
        "  break"
      ]
    },
    {
      "cell_type": "code",
      "execution_count": 63,
      "metadata": {
        "id": "pwAyzmhvST-A"
      },
      "outputs": [],
      "source": [
        "train_dataloader = DataLoader(train_dataset, batch_size=Config.Training.BATCH_SIZE, num_workers=2)\n",
        "test_dataloader = DataLoader(test_dataset, batch_size=1, num_workers=2)"
      ]
    },
    {
      "cell_type": "markdown",
      "metadata": {
        "id": "iX6ssdO18cQP"
      },
      "source": [
        "## Model"
      ]
    },
    {
      "cell_type": "code",
      "execution_count": 64,
      "metadata": {
        "id": "q0vqpDJbnzye"
      },
      "outputs": [],
      "source": [
        "class SequenceModel(nn.Module):\n",
        "\n",
        "  def __init__(\n",
        "      self, \n",
        "      n_features, \n",
        "      n_classes, \n",
        "      n_hidden=128, \n",
        "      embedding_dim=64, \n",
        "      n_layers=2, \n",
        "      use_attention=True\n",
        "    ):\n",
        "    super().__init__()\n",
        "\n",
        "    self.use_attention = use_attention\n",
        "\n",
        "    self.n_hidden = n_hidden\n",
        "\n",
        "    self.poi_embedding = nn.Embedding(n_classes, embedding_dim)\n",
        "\n",
        "    self.lstm = nn.LSTM(\n",
        "      input_size=n_features + embedding_dim, \n",
        "      hidden_size=n_hidden, \n",
        "      batch_first=True, \n",
        "      num_layers=n_layers, \n",
        "      dropout=0.8\n",
        "    )\n",
        "    self.classifier = nn.Linear(n_hidden, n_classes)\n",
        "\n",
        "  def _apply_attention(self, lstm_output, final_state):\n",
        "    attn_weights = torch.bmm(lstm_output, final_state.unsqueeze(dim=2)).squeeze(2)\n",
        "    soft_attn_weights = F.softmax(attn_weights, 1)\n",
        "    new_hidden_state = torch.bmm(lstm_output.transpose(1, 2), soft_attn_weights.unsqueeze(2)).squeeze(2)\n",
        "    \n",
        "    return new_hidden_state\n",
        "\n",
        "  def _forward_with_attention(self, x):\n",
        "    features, prev_poi = x\n",
        "    emb_out = self.poi_embedding(prev_poi)\n",
        "    x = torch.cat((features, emb_out), axis=2)\n",
        "    self.lstm.flatten_parameters()\n",
        "    lstm_output, (final_hidden_state, _) = self.lstm(x)\n",
        "    last_layer_hidden_state = final_hidden_state[-1]\n",
        "\n",
        "    out = self._apply_attention(lstm_output, last_layer_hidden_state)\n",
        "    out = self.classifier(out)\n",
        "    return out\n",
        "\n",
        "  def _forward_no_attention(self, x):\n",
        "    features, prev_poi = x\n",
        "    emb_out = self.poi_embedding(prev_poi)\n",
        "    x = torch.cat((features, emb_out), axis=2)\n",
        "    self.lstm.flatten_parameters()\n",
        "    out, _ = self.lstm(x)\n",
        "    \n",
        "    out = out[:, -1, :]\n",
        "    out = self.classifier(out)\n",
        "    return out\n",
        "\n",
        "  def forward(self, x):\n",
        "\n",
        "    if self.use_attention:\n",
        "      return self._forward_with_attention(x)\n",
        "    else:\n",
        "      return self._forward_no_attention(x)"
      ]
    },
    {
      "cell_type": "markdown",
      "metadata": {
        "id": "fW708ekrvBzJ"
      },
      "source": [
        "## Training\n",
        "\n",
        "Model input shape (batch_size, seq_length, num_features)"
      ]
    },
    {
      "cell_type": "code",
      "execution_count": 65,
      "metadata": {
        "colab": {
          "base_uri": "https://localhost:8080/"
        },
        "id": "50IpwxA4B-Ty",
        "outputId": "41f3f01a-a235-4caa-8bf6-7f1378a042c1"
      },
      "outputs": [
        {
          "output_type": "stream",
          "name": "stdout",
          "text": [
            "115\n"
          ]
        }
      ],
      "source": [
        "n_classes = len(df.poi_id.unique())\n",
        "print(n_classes)\n",
        "\n",
        "model = SequenceModel(n_features=len(FEATURES), n_classes=n_classes, n_hidden=256, n_layers=2)\n",
        "model = model.to(device)\n",
        "\n",
        "criterion = nn.CrossEntropyLoss()\n",
        "criterion = criterion.to(device)\n",
        "\n",
        "optimizer = optim.Adam(\n",
        "  model.parameters(), \n",
        "  lr=Config.Training.LEARNING_RATE, \n",
        "  weight_decay=Config.Training.WEIGHT_DECAY\n",
        ")"
      ]
    },
    {
      "cell_type": "code",
      "execution_count": 66,
      "metadata": {
        "colab": {
          "base_uri": "https://localhost:8080/"
        },
        "id": "Xu5O_Rujq37i",
        "outputId": "b33f0b9e-d8de-4908-91c3-609ca5758a37"
      },
      "outputs": [
        {
          "output_type": "stream",
          "name": "stdout",
          "text": [
            "torch.Size([32, 60, 10])\n",
            "torch.Size([32])\n",
            "torch.Size([32, 115])\n",
            "tensor(30, device='cuda:0')\n"
          ]
        }
      ],
      "source": [
        "for item in train_dataloader:\n",
        "  sequence = item[\"sequence\"].to(device)\n",
        "  prev_pois = item[\"prev_pois\"].to(device)\n",
        "  labels = item[\"label\"].to(device)\n",
        "  outputs = model((sequence, prev_pois))\n",
        "  print(sequence.shape)\n",
        "  print(labels.shape)\n",
        "  print(outputs.shape)\n",
        "  criterion(outputs, labels)\n",
        "\n",
        "  print(labels[0])\n",
        "  break"
      ]
    },
    {
      "cell_type": "code",
      "execution_count": 67,
      "metadata": {
        "colab": {
          "base_uri": "https://localhost:8080/"
        },
        "id": "4L9oO6tnqsPT",
        "outputId": "78a0c8b5-c2fe-4549-f764-f8885e7b4f20"
      },
      "outputs": [
        {
          "output_type": "stream",
          "name": "stdout",
          "text": [
            "torch.Size([1, 60, 10])\n",
            "torch.Size([1])\n",
            "torch.Size([1, 115])\n",
            "tensor(12, device='cuda:0')\n"
          ]
        }
      ],
      "source": [
        "for item in test_dataloader:\n",
        "  sequence = item[\"sequence\"].to(device)\n",
        "  prev_pois = item[\"prev_pois\"].to(device)\n",
        "  labels = item[\"label\"].to(device)\n",
        "  outputs = model((sequence, prev_pois))\n",
        "  print(sequence.shape)\n",
        "  print(labels.shape)\n",
        "  print(outputs.shape)\n",
        "\n",
        "  criterion(outputs, labels)\n",
        "  print(labels[0])\n",
        "  break"
      ]
    },
    {
      "cell_type": "code",
      "execution_count": 68,
      "metadata": {
        "id": "zd_tz7kHvNwK"
      },
      "outputs": [],
      "source": [
        "def train_epoch(\n",
        "  model, \n",
        "  data_loader, \n",
        "  loss_fn, \n",
        "  optimizer, \n",
        "  device\n",
        "):\n",
        "  model = model.train()\n",
        "\n",
        "  losses = []\n",
        "\n",
        "  for item in data_loader:\n",
        "  \n",
        "    sequence = item[\"sequence\"].to(device)\n",
        "    prev_pois = item[\"prev_pois\"].to(device)\n",
        "    labels = item[\"label\"].to(device)\n",
        "    \n",
        "    outputs = model((sequence, prev_pois))\n",
        "\n",
        "    optimizer.zero_grad()\n",
        "\n",
        "    loss = loss_fn(outputs, labels)\n",
        "\n",
        "    losses.append(loss.item())\n",
        "\n",
        "    loss.backward()\n",
        "    optimizer.step()\n",
        "    \n",
        "\n",
        "  return np.mean(losses)"
      ]
    },
    {
      "cell_type": "code",
      "execution_count": 69,
      "metadata": {
        "id": "ywGcs8es3Ms6"
      },
      "outputs": [],
      "source": [
        "def eval_model(model, data_loader, loss_fn, device):\n",
        "  model = model.eval()\n",
        "\n",
        "  losses = []\n",
        "\n",
        "  with torch.no_grad():\n",
        "    for item in data_loader:\n",
        "    \n",
        "      sequence = item[\"sequence\"].to(device)\n",
        "      prev_pois = item[\"prev_pois\"].to(device)\n",
        "      labels = item[\"label\"].to(device)\n",
        "      \n",
        "      outputs = model((sequence, prev_pois))\n",
        "\n",
        "      loss = loss_fn(outputs, labels)\n",
        "\n",
        "      losses.append(loss.item())\n",
        "\n",
        "  return np.mean(losses)"
      ]
    },
    {
      "cell_type": "code",
      "execution_count": 70,
      "metadata": {
        "colab": {
          "base_uri": "https://localhost:8080/"
        },
        "id": "hQp-5S6sH-0T",
        "outputId": "97a24f97-f678-4dde-a88d-9972540cb699"
      },
      "outputs": [
        {
          "output_type": "stream",
          "name": "stdout",
          "text": [
            "Epoch 1/20\n",
            "----------\n",
            "Train loss 4.645393949175029\n",
            "Val loss 4.439508671159844\n",
            "\n",
            "Epoch 2/20\n",
            "----------\n",
            "Train loss 3.4240511561694897\n",
            "Val loss 3.4464002244038308\n",
            "\n",
            "Epoch 3/20\n",
            "----------\n",
            "Train loss 2.3018752056470966\n",
            "Val loss 2.5477536596143837\n",
            "\n",
            "Epoch 4/20\n",
            "----------\n",
            "Train loss 1.740741246486596\n",
            "Val loss 1.948581638553863\n",
            "\n",
            "Epoch 5/20\n",
            "----------\n",
            "Train loss 1.3163208914690019\n",
            "Val loss 1.6405278025827232\n",
            "\n",
            "Epoch 6/20\n",
            "----------\n",
            "Train loss 1.12911780614798\n",
            "Val loss 1.2143262570107467\n",
            "\n",
            "Epoch 7/20\n",
            "----------\n",
            "Train loss 1.0354969738694282\n",
            "Val loss 1.1534455728534168\n",
            "\n",
            "Epoch 8/20\n",
            "----------\n",
            "Train loss 0.9885896360962984\n",
            "Val loss 1.120669803232278\n",
            "\n",
            "Epoch 9/20\n",
            "----------\n",
            "Train loss 0.9586024427031031\n",
            "Val loss 1.127228330660614\n",
            "\n",
            "Epoch 10/20\n",
            "----------\n",
            "Train loss 0.9467615670518771\n",
            "Val loss 1.1009368154312382\n",
            "\n",
            "Epoch 11/20\n",
            "----------\n",
            "Train loss 0.9307844843239677\n",
            "Val loss 1.1052593902685357\n",
            "\n",
            "Epoch 12/20\n",
            "----------\n",
            "Train loss 0.9190405115712976\n",
            "Val loss 1.0985001768757572\n",
            "\n",
            "Epoch 13/20\n",
            "----------\n",
            "Train loss 0.9146716820851729\n",
            "Val loss 1.0825023812221488\n",
            "\n",
            "Epoch 14/20\n",
            "----------\n",
            "Train loss 0.9031359391833365\n",
            "Val loss 1.0767974409491479\n",
            "\n",
            "Epoch 15/20\n",
            "----------\n",
            "Train loss 0.8996001480063626\n",
            "Val loss 1.1278394622748442\n",
            "\n",
            "Epoch 16/20\n",
            "----------\n",
            "Train loss 0.8932522384647349\n",
            "Val loss 1.108193309486077\n",
            "\n",
            "Epoch 17/20\n",
            "----------\n",
            "Train loss 0.8918084265511402\n",
            "Val loss 1.0956395421614542\n",
            "\n",
            "Epoch 18/20\n",
            "----------\n",
            "Train loss 0.8766887636639714\n",
            "Val loss 1.0884147922135845\n",
            "\n",
            "Epoch 19/20\n",
            "----------\n",
            "Train loss 0.876966895040733\n",
            "Val loss 1.0867908582450456\n",
            "\n",
            "Epoch 20/20\n",
            "----------\n",
            "Train loss 0.8724924476255718\n",
            "Val loss 1.0993842084741028\n",
            "\n",
            "CPU times: user 12min 26s, sys: 49.5 s, total: 13min 15s\n",
            "Wall time: 14min 7s\n"
          ]
        }
      ],
      "source": [
        "%%time\n",
        "\n",
        "history = defaultdict(list)\n",
        "\n",
        "for epoch in range(Config.Training.EPOCHS):\n",
        "\n",
        "  print(f'Epoch {epoch + 1}/{Config.Training.EPOCHS}')\n",
        "  print('-' * 10)\n",
        "\n",
        "  train_loss = train_epoch(\n",
        "    model,\n",
        "    train_dataloader,\n",
        "    criterion, \n",
        "    optimizer, \n",
        "    device\n",
        "  )\n",
        "\n",
        "  print(f'Train loss {train_loss}')\n",
        "  \n",
        "  val_loss = eval_model(\n",
        "    model,\n",
        "    test_dataloader,\n",
        "    criterion,\n",
        "    device\n",
        "  )\n",
        "\n",
        "  print(f'Val loss {val_loss}')\n",
        "  print()\n",
        "\n",
        "  history['train_loss'].append(train_loss)\n",
        "  history['val_loss'].append(val_loss)"
      ]
    },
    {
      "cell_type": "markdown",
      "metadata": {
        "id": "YPb2BnFp8g27"
      },
      "source": [
        "## Evaluation"
      ]
    },
    {
      "cell_type": "code",
      "execution_count": 71,
      "metadata": {
        "colab": {
          "base_uri": "https://localhost:8080/",
          "height": 523
        },
        "id": "apeQBJ-z7sZ9",
        "outputId": "53f5286a-092b-427c-9fd1-b462b1ef7077"
      },
      "outputs": [
        {
          "output_type": "display_data",
          "data": {
            "image/png": "[encoded data removed]",
            "text/plain": [
              "<Figure size 864x576 with 1 Axes>"
            ]
          },
          "metadata": {
            "image/png": {
              "width": 728,
              "height": 506
            }
          }
        }
      ],
      "source": [
        "ax = plt.subplot(1, 1, 1)\n",
        "ax.plot(history[\"train_loss\"], label=\"train loss\")\n",
        "ax.plot(history[\"val_loss\"], label=\"validation loss\")\n",
        "ax.xaxis.set_major_locator(MaxNLocator(integer=True))\n",
        "ax.legend()\n",
        "\n",
        "ax.set_ylabel(\"Loss\")\n",
        "ax.set_xlabel(\"Epoch\")\n",
        "ax.set_ylim([0, 10])\n",
        "plt.title(\"Training history\");"
      ]
    },
    {
      "cell_type": "code",
      "execution_count": 72,
      "metadata": {
        "id": "SUmlUvshELwq"
      },
      "outputs": [],
      "source": [
        "def get_predictions(model, data_loader, device):\n",
        "  model = model.eval()\n",
        "\n",
        "  predictions = []\n",
        "  ground_truths = []\n",
        "\n",
        "  with torch.no_grad():\n",
        "    for item in data_loader:\n",
        "    \n",
        "      sequence = item[\"sequence\"].to(device)\n",
        "      prev_pois = item[\"prev_pois\"].to(device)\n",
        "      labels = item[\"label\"].to(device)\n",
        "      \n",
        "      outputs = model((sequence, prev_pois))\n",
        "\n",
        "      predictions.append(outputs.squeeze())\n",
        "      ground_truths.append(labels)\n",
        "\n",
        "  return torch.stack(predictions), torch.stack(ground_truths)"
      ]
    },
    {
      "cell_type": "code",
      "execution_count": 73,
      "metadata": {
        "id": "cUv_5QzbE5Fi"
      },
      "outputs": [],
      "source": [
        "predictions, labels = get_predictions(model, test_dataloader, device)"
      ]
    },
    {
      "cell_type": "code",
      "execution_count": null,
      "metadata": {
        "colab": {
          "base_uri": "https://localhost:8080/"
        },
        "id": "nQEeuaIr74gG",
        "outputId": "287dbc0b-7401-4a7a-fda8-013d2820d18f"
      },
      "outputs": [
        {
          "name": "stdout",
          "output_type": "stream",
          "text": [
            "k=5: accuracy 0.9119868874549866 precision 0.18239736557006836 recall 0.9119868874549866\n",
            "k=10: accuracy 0.9727421998977661 precision 0.09727422147989273 recall 0.9727421998977661\n",
            "k=15: accuracy 0.9858784675598145 precision 0.06572522968053818 recall 0.9858784675598145\n",
            "k=20: accuracy 0.9901477694511414 precision 0.04950739070773125 recall 0.9901477694511414\n"
          ]
        }
      ],
      "source": [
        "for k in Config.Evaluation.K_VALUES:\n",
        "  accuracy = Accuracy(top_k=k)\n",
        "  accuracy = accuracy(torch.softmax(predictions, dim=1).cpu(), labels.cpu()).item()\n",
        "\n",
        "  precision = Precision(num_classes=n_classes, top_k=k)\n",
        "  precision = precision(torch.softmax(predictions, dim=1).cpu(), labels.cpu()).item()\n",
        "\n",
        "  recall = Recall(num_classes=n_classes, top_k=k)\n",
        "  recall = recall(torch.softmax(predictions, dim=1).cpu(), labels.cpu()).item()\n",
        "\n",
        "  print(f\"k={k}: accuracy {accuracy} precision {precision} recall {recall}\")"
      ]
    }
  ],
  "metadata": {
    "accelerator": "GPU",
    "colab": {
      "collapsed_sections": [],
      "name": "ATDL-POI.ipynb",
      "provenance": [],
      "toc_visible": true
    },
    "kernelspec": {
      "display_name": "Python 3",
      "language": "python",
      "name": "python3"
    },
    "language_info": {
      "codemirror_mode": {
        "name": "ipython",
        "version": 3
      },
      "file_extension": ".py",
      "mimetype": "text/x-python",
      "name": "python",
      "nbconvert_exporter": "python",
      "pygments_lexer": "ipython3",
      "version": "3.6.8"
    },
    "widgets": {
      "application/vnd.jupyter.widget-state+json": {
        "b183fd6db04b47d280efa3d37ba41ead": {
          "model_module": "@jupyter-widgets/controls",
          "model_name": "HBoxModel",
          "model_module_version": "1.5.0",
          "state": {
            "_view_name": "HBoxView",
            "_dom_classes": [],
            "_model_name": "HBoxModel",
            "_view_module": "@jupyter-widgets/controls",
            "_model_module_version": "1.5.0",
            "_view_count": null,
            "_view_module_version": "1.5.0",
            "box_style": "",
            "layout": "IPY_MODEL_a824fc75ba8846668e62343cf98db702",
            "_model_module": "@jupyter-widgets/controls",
            "children": [
              "IPY_MODEL_a366d3d35b5a4b3eaeb0eddf9f3fcbab",
              "IPY_MODEL_270be443b5de4a32b31a616b6fe214c4",
              "IPY_MODEL_3533a835f30f4945aae9aa6dcd122b89"
            ]
          }
        },
        "a824fc75ba8846668e62343cf98db702": {
          "model_module": "@jupyter-widgets/base",
          "model_name": "LayoutModel",
          "model_module_version": "1.2.0",
          "state": {
            "_view_name": "LayoutView",
            "grid_template_rows": null,
            "right": null,
            "justify_content": null,
            "_view_module": "@jupyter-widgets/base",
            "overflow": null,
            "_model_module_version": "1.2.0",
            "_view_count": null,
            "flex_flow": null,
            "width": null,
            "min_width": null,
            "border": null,
            "align_items": null,
            "bottom": null,
            "_model_module": "@jupyter-widgets/base",
            "top": null,
            "grid_column": null,
            "overflow_y": null,
            "overflow_x": null,
            "grid_auto_flow": null,
            "grid_area": null,
            "grid_template_columns": null,
            "flex": null,
            "_model_name": "LayoutModel",
            "justify_items": null,
            "grid_row": null,
            "max_height": null,
            "align_content": null,
            "visibility": null,
            "align_self": null,
            "height": null,
            "min_height": null,
            "padding": null,
            "grid_auto_rows": null,
            "grid_gap": null,
            "max_width": null,
            "order": null,
            "_view_module_version": "1.2.0",
            "grid_template_areas": null,
            "object_position": null,
            "object_fit": null,
            "grid_auto_columns": null,
            "margin": null,
            "display": null,
            "left": null
          }
        },
        "a366d3d35b5a4b3eaeb0eddf9f3fcbab": {
          "model_module": "@jupyter-widgets/controls",
          "model_name": "HTMLModel",
          "model_module_version": "1.5.0",
          "state": {
            "_view_name": "HTMLView",
            "style": "IPY_MODEL_89a06a1f03e6485c8d33deef8de3110c",
            "_dom_classes": [],
            "description": "",
            "_model_name": "HTMLModel",
            "placeholder": "​",
            "_view_module": "@jupyter-widgets/controls",
            "_model_module_version": "1.5.0",
            "value": "100%",
            "_view_count": null,
            "_view_module_version": "1.5.0",
            "description_tooltip": null,
            "_model_module": "@jupyter-widgets/controls",
            "layout": "IPY_MODEL_21ae03eaf70a4785b2ab0bd83dab4d52"
          }
        },
        "270be443b5de4a32b31a616b6fe214c4": {
          "model_module": "@jupyter-widgets/controls",
          "model_name": "FloatProgressModel",
          "model_module_version": "1.5.0",
          "state": {
            "_view_name": "ProgressView",
            "style": "IPY_MODEL_fd65ddcfbb904470a5d2cc982c658a2c",
            "_dom_classes": [],
            "description": "",
            "_model_name": "FloatProgressModel",
            "bar_style": "success",
            "max": 500,
            "_view_module": "@jupyter-widgets/controls",
            "_model_module_version": "1.5.0",
            "value": 500,
            "_view_count": null,
            "_view_module_version": "1.5.0",
            "orientation": "horizontal",
            "min": 0,
            "description_tooltip": null,
            "_model_module": "@jupyter-widgets/controls",
            "layout": "IPY_MODEL_7ed5b4e410af44ccbf65a5226683ede0"
          }
        },
        "3533a835f30f4945aae9aa6dcd122b89": {
          "model_module": "@jupyter-widgets/controls",
          "model_name": "HTMLModel",
          "model_module_version": "1.5.0",
          "state": {
            "_view_name": "HTMLView",
            "style": "IPY_MODEL_45aa69c6034a4e669a7f7dbdd8f761a3",
            "_dom_classes": [],
            "description": "",
            "_model_name": "HTMLModel",
            "placeholder": "​",
            "_view_module": "@jupyter-widgets/controls",
            "_model_module_version": "1.5.0",
            "value": " 500/500 [00:37&lt;00:00, 13.58it/s]",
            "_view_count": null,
            "_view_module_version": "1.5.0",
            "description_tooltip": null,
            "_model_module": "@jupyter-widgets/controls",
            "layout": "IPY_MODEL_8bc342211d234cbd87c26269318e2f8e"
          }
        },
        "89a06a1f03e6485c8d33deef8de3110c": {
          "model_module": "@jupyter-widgets/controls",
          "model_name": "DescriptionStyleModel",
          "model_module_version": "1.5.0",
          "state": {
            "_view_name": "StyleView",
            "_model_name": "DescriptionStyleModel",
            "description_width": "",
            "_view_module": "@jupyter-widgets/base",
            "_model_module_version": "1.5.0",
            "_view_count": null,
            "_view_module_version": "1.2.0",
            "_model_module": "@jupyter-widgets/controls"
          }
        },
        "21ae03eaf70a4785b2ab0bd83dab4d52": {
          "model_module": "@jupyter-widgets/base",
          "model_name": "LayoutModel",
          "model_module_version": "1.2.0",
          "state": {
            "_view_name": "LayoutView",
            "grid_template_rows": null,
            "right": null,
            "justify_content": null,
            "_view_module": "@jupyter-widgets/base",
            "overflow": null,
            "_model_module_version": "1.2.0",
            "_view_count": null,
            "flex_flow": null,
            "width": null,
            "min_width": null,
            "border": null,
            "align_items": null,
            "bottom": null,
            "_model_module": "@jupyter-widgets/base",
            "top": null,
            "grid_column": null,
            "overflow_y": null,
            "overflow_x": null,
            "grid_auto_flow": null,
            "grid_area": null,
            "grid_template_columns": null,
            "flex": null,
            "_model_name": "LayoutModel",
            "justify_items": null,
            "grid_row": null,
            "max_height": null,
            "align_content": null,
            "visibility": null,
            "align_self": null,
            "height": null,
            "min_height": null,
            "padding": null,
            "grid_auto_rows": null,
            "grid_gap": null,
            "max_width": null,
            "order": null,
            "_view_module_version": "1.2.0",
            "grid_template_areas": null,
            "object_position": null,
            "object_fit": null,
            "grid_auto_columns": null,
            "margin": null,
            "display": null,
            "left": null
          }
        },
        "fd65ddcfbb904470a5d2cc982c658a2c": {
          "model_module": "@jupyter-widgets/controls",
          "model_name": "ProgressStyleModel",
          "model_module_version": "1.5.0",
          "state": {
            "_view_name": "StyleView",
            "_model_name": "ProgressStyleModel",
            "description_width": "",
            "_view_module": "@jupyter-widgets/base",
            "_model_module_version": "1.5.0",
            "_view_count": null,
            "_view_module_version": "1.2.0",
            "bar_color": null,
            "_model_module": "@jupyter-widgets/controls"
          }
        },
        "7ed5b4e410af44ccbf65a5226683ede0": {
          "model_module": "@jupyter-widgets/base",
          "model_name": "LayoutModel",
          "model_module_version": "1.2.0",
          "state": {
            "_view_name": "LayoutView",
            "grid_template_rows": null,
            "right": null,
            "justify_content": null,
            "_view_module": "@jupyter-widgets/base",
            "overflow": null,
            "_model_module_version": "1.2.0",
            "_view_count": null,
            "flex_flow": null,
            "width": null,
            "min_width": null,
            "border": null,
            "align_items": null,
            "bottom": null,
            "_model_module": "@jupyter-widgets/base",
            "top": null,
            "grid_column": null,
            "overflow_y": null,
            "overflow_x": null,
            "grid_auto_flow": null,
            "grid_area": null,
            "grid_template_columns": null,
            "flex": null,
            "_model_name": "LayoutModel",
            "justify_items": null,
            "grid_row": null,
            "max_height": null,
            "align_content": null,
            "visibility": null,
            "align_self": null,
            "height": null,
            "min_height": null,
            "padding": null,
            "grid_auto_rows": null,
            "grid_gap": null,
            "max_width": null,
            "order": null,
            "_view_module_version": "1.2.0",
            "grid_template_areas": null,
            "object_position": null,
            "object_fit": null,
            "grid_auto_columns": null,
            "margin": null,
            "display": null,
            "left": null
          }
        },
        "45aa69c6034a4e669a7f7dbdd8f761a3": {
          "model_module": "@jupyter-widgets/controls",
          "model_name": "DescriptionStyleModel",
          "model_module_version": "1.5.0",
          "state": {
            "_view_name": "StyleView",
            "_model_name": "DescriptionStyleModel",
            "description_width": "",
            "_view_module": "@jupyter-widgets/base",
            "_model_module_version": "1.5.0",
            "_view_count": null,
            "_view_module_version": "1.2.0",
            "_model_module": "@jupyter-widgets/controls"
          }
        },
        "8bc342211d234cbd87c26269318e2f8e": {
          "model_module": "@jupyter-widgets/base",
          "model_name": "LayoutModel",
          "model_module_version": "1.2.0",
          "state": {
            "_view_name": "LayoutView",
            "grid_template_rows": null,
            "right": null,
            "justify_content": null,
            "_view_module": "@jupyter-widgets/base",
            "overflow": null,
            "_model_module_version": "1.2.0",
            "_view_count": null,
            "flex_flow": null,
            "width": null,
            "min_width": null,
            "border": null,
            "align_items": null,
            "bottom": null,
            "_model_module": "@jupyter-widgets/base",
            "top": null,
            "grid_column": null,
            "overflow_y": null,
            "overflow_x": null,
            "grid_auto_flow": null,
            "grid_area": null,
            "grid_template_columns": null,
            "flex": null,
            "_model_name": "LayoutModel",
            "justify_items": null,
            "grid_row": null,
            "max_height": null,
            "align_content": null,
            "visibility": null,
            "align_self": null,
            "height": null,
            "min_height": null,
            "padding": null,
            "grid_auto_rows": null,
            "grid_gap": null,
            "max_width": null,
            "order": null,
            "_view_module_version": "1.2.0",
            "grid_template_areas": null,
            "object_position": null,
            "object_fit": null,
            "grid_auto_columns": null,
            "margin": null,
            "display": null,
            "left": null
          }
        }
      }
    }
  },
  "nbformat": 4,
  "nbformat_minor": 0
}
